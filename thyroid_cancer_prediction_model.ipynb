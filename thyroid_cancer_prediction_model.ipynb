{
 "cells": [
  {
   "cell_type": "markdown",
   "id": "eda20a72-01d0-4053-a3dc-c0048de54fea",
   "metadata": {},
   "source": [
    "                                                        Tyroid Cancer Detection"
   ]
  },
  {
   "cell_type": "markdown",
   "id": "da969ffd-bafc-44d8-8813-813c98e5b757",
   "metadata": {},
   "source": [
    "Disclaimer"
   ]
  },
  {
   "cell_type": "raw",
   "id": "114ccca8-0d16-4024-a916-c88bd9222fc3",
   "metadata": {},
   "source": [
    "This project, Thyroid Cancer Risk Detection, is based on a dataset sourced from Kaggle and does not contain real-world medical data. The dataset is synthetic or simulated, meaning it is not representative of actual patient cases, clinical research, or medical diagnoses.\n",
    "\n",
    "The analysis, visualizations, and machine learning models developed in this project are for educational and research purposes only. They should not be used for real-world medical diagnosis, treatment decisions, or health-related conclusions."
   ]
  },
  {
   "cell_type": "markdown",
   "id": "edfaef52-3d34-43e7-aeb0-2cc6b486a625",
   "metadata": {},
   "source": [
    "Objective"
   ]
  },
  {
   "cell_type": "raw",
   "id": "00b5fd8b-09d4-4c33-8b8c-a202696fc8b6",
   "metadata": {},
   "source": [
    "The goal is to build a machine learning model that predicts thyroid cancer risk diagnosis as either \"Malignant\" or \"Benign\" based on relevent patient attributes."
   ]
  },
  {
   "cell_type": "markdown",
   "id": "ea49e7a1-bdee-4501-b1a6-10dc93738f2e",
   "metadata": {},
   "source": [
    "What is Malignand & Benign Thyroid nodules?"
   ]
  },
  {
   "cell_type": "markdown",
   "id": "574c2f40-04bc-4611-a60e-f18ebf407ecb",
   "metadata": {},
   "source": [
    "Malignant:"
   ]
  },
  {
   "cell_type": "raw",
   "id": "bae3dde2-e9e0-470b-ad6c-3572860899d8",
   "metadata": {},
   "source": [
    "_These thyroid tumors are cancerous growths that can spread to other body parts.\n",
    "_Irregular shape\n",
    "_Hard & Fixed\n",
    "_Grow Rapidly"
   ]
  },
  {
   "cell_type": "markdown",
   "id": "7530f982-fc79-4c1b-8b77-f5f38f43625e",
   "metadata": {},
   "source": [
    "Benign:"
   ]
  },
  {
   "cell_type": "raw",
   "id": "51b1eafb-5ee1-4c49-9aa7-ec651234ce41",
   "metadata": {},
   "source": [
    "_These thyroid nodules are non_cancerous growths that do not spread to other body parts.\n",
    "_Smooth,Soft,Movable\n",
    "_Grow Slowly"
   ]
  },
  {
   "cell_type": "code",
   "execution_count": 1,
   "id": "e63d15ce-a781-4e1a-b1ab-d00b331c0dd4",
   "metadata": {},
   "outputs": [],
   "source": [
    "# importing all nessasory libraries\n",
    "import numpy as np\n",
    "import pandas as pd\n",
    "import matplotlib.pyplot as plt\n",
    "import seaborn as sns\n",
    "import warnings \n",
    "warnings.filterwarnings(\"ignore\")"
   ]
  },
  {
   "cell_type": "code",
   "execution_count": 5,
   "id": "c9fa821a-02ab-48d3-a7f7-258b92785985",
   "metadata": {},
   "outputs": [],
   "source": [
    "#loading data from csv\n",
    "df=pd.read_csv(\"thyroid_status_dataset.csv\")"
   ]
  },
  {
   "cell_type": "markdown",
   "id": "d62c18fe-5674-4d4a-bbcb-e913e8f5aa73",
   "metadata": {},
   "source": [
    "Dataset Description"
   ]
  },
  {
   "cell_type": "raw",
   "id": "0f676f3a-1d9f-492f-8f79-b5e93ada22ca",
   "metadata": {},
   "source": [
    "The dataset consists of 212691 entries with 17 features, including both numerical and categorical variables."
   ]
  },
  {
   "cell_type": "markdown",
   "id": "ec20982d-0147-4a99-85f2-30b549426b4d",
   "metadata": {},
   "source": [
    "Column Descriptions"
   ]
  },
  {
   "cell_type": "raw",
   "id": "f3732696-1ef8-49ab-a0bd-1d2ae23fe069",
   "metadata": {},
   "source": [
    "Patient_ID (int):              Unique identifier for each patient.\n",
    "Age (int):                     Age of the patient.\n",
    "Gender (object):               Patient’s gender (Male/Female).\n",
    "Country (object):              Country of residence.\n",
    "Ethnicity (object):            Patient’s ethnic background.\n",
    "Family_History (object):       Whether the patient has a family history of thyroid cancer (Yes/No).\n",
    "Radiation_Exposure (object):   History of radiation exposure (Yes/No).\n",
    "Iodine_Deficiency (object):    Presence of iodine deficiency (Yes/No).\n",
    "Smoking (object):              Whether the patient smokes (Yes/No).\n",
    "Obesity (object):              Whether the patient is obese (Yes/No).\n",
    "Diabetes (object):             Whether the patient has diabetes (Yes/No).\n",
    "TSH_Level (float):             Thyroid-Stimulating Hormone level (µIU/mL).\n",
    "T3_Level (float):              Triiodothyronine level (ng/dL).\n",
    "T4_Level (float):              Thyroxine level (µg/dL).\n",
    "Nodule_Size (float):           Size of thyroid nodules (cm).\n",
    "Thyroid_Cancer_Risk (object):  Estimated risk of thyroid cancer (Low/Medium/High).\n",
    "Diagnosis (object):            Final diagnosis (Benign/Malignant)."
   ]
  },
  {
   "cell_type": "code",
   "execution_count": 8,
   "id": "ea25bf4e-028e-4b37-8edd-38724ecb4896",
   "metadata": {},
   "outputs": [
    {
     "data": {
      "text/plain": [
       "(212691, 17)"
      ]
     },
     "execution_count": 8,
     "metadata": {},
     "output_type": "execute_result"
    }
   ],
   "source": [
    "# fetching structure of dataset\n",
    "df.shape"
   ]
  },
  {
   "cell_type": "code",
   "execution_count": 9,
   "id": "ef7c1365-a8e7-48c2-963c-ed4e0a95d12e",
   "metadata": {},
   "outputs": [
    {
     "data": {
      "text/html": [
       "<div>\n",
       "<style scoped>\n",
       "    .dataframe tbody tr th:only-of-type {\n",
       "        vertical-align: middle;\n",
       "    }\n",
       "\n",
       "    .dataframe tbody tr th {\n",
       "        vertical-align: top;\n",
       "    }\n",
       "\n",
       "    .dataframe thead th {\n",
       "        text-align: right;\n",
       "    }\n",
       "</style>\n",
       "<table border=\"1\" class=\"dataframe\">\n",
       "  <thead>\n",
       "    <tr style=\"text-align: right;\">\n",
       "      <th></th>\n",
       "      <th>Patient_ID</th>\n",
       "      <th>Age</th>\n",
       "      <th>Gender</th>\n",
       "      <th>Country</th>\n",
       "      <th>Ethnicity</th>\n",
       "      <th>Family_History</th>\n",
       "      <th>Radiation_Exposure</th>\n",
       "      <th>Iodine_Deficiency</th>\n",
       "      <th>Smoking</th>\n",
       "      <th>Obesity</th>\n",
       "      <th>Diabetes</th>\n",
       "      <th>TSH_Level</th>\n",
       "      <th>T3_Level</th>\n",
       "      <th>T4_Level</th>\n",
       "      <th>Nodule_Size</th>\n",
       "      <th>Thyroid_Cancer_Risk</th>\n",
       "      <th>Diagnosis</th>\n",
       "    </tr>\n",
       "  </thead>\n",
       "  <tbody>\n",
       "    <tr>\n",
       "      <th>0</th>\n",
       "      <td>1</td>\n",
       "      <td>66</td>\n",
       "      <td>Male</td>\n",
       "      <td>Russia</td>\n",
       "      <td>Caucasian</td>\n",
       "      <td>No</td>\n",
       "      <td>Yes</td>\n",
       "      <td>No</td>\n",
       "      <td>No</td>\n",
       "      <td>No</td>\n",
       "      <td>No</td>\n",
       "      <td>9.37</td>\n",
       "      <td>1.67</td>\n",
       "      <td>6.16</td>\n",
       "      <td>1.08</td>\n",
       "      <td>Low</td>\n",
       "      <td>Benign</td>\n",
       "    </tr>\n",
       "    <tr>\n",
       "      <th>1</th>\n",
       "      <td>2</td>\n",
       "      <td>29</td>\n",
       "      <td>Male</td>\n",
       "      <td>Germany</td>\n",
       "      <td>Hispanic</td>\n",
       "      <td>No</td>\n",
       "      <td>Yes</td>\n",
       "      <td>No</td>\n",
       "      <td>No</td>\n",
       "      <td>No</td>\n",
       "      <td>No</td>\n",
       "      <td>1.83</td>\n",
       "      <td>1.73</td>\n",
       "      <td>10.54</td>\n",
       "      <td>4.05</td>\n",
       "      <td>Low</td>\n",
       "      <td>Benign</td>\n",
       "    </tr>\n",
       "    <tr>\n",
       "      <th>2</th>\n",
       "      <td>3</td>\n",
       "      <td>86</td>\n",
       "      <td>Male</td>\n",
       "      <td>Nigeria</td>\n",
       "      <td>Caucasian</td>\n",
       "      <td>No</td>\n",
       "      <td>No</td>\n",
       "      <td>No</td>\n",
       "      <td>No</td>\n",
       "      <td>No</td>\n",
       "      <td>No</td>\n",
       "      <td>6.26</td>\n",
       "      <td>2.59</td>\n",
       "      <td>10.57</td>\n",
       "      <td>4.61</td>\n",
       "      <td>Low</td>\n",
       "      <td>Benign</td>\n",
       "    </tr>\n",
       "    <tr>\n",
       "      <th>3</th>\n",
       "      <td>4</td>\n",
       "      <td>75</td>\n",
       "      <td>Female</td>\n",
       "      <td>India</td>\n",
       "      <td>Asian</td>\n",
       "      <td>No</td>\n",
       "      <td>No</td>\n",
       "      <td>No</td>\n",
       "      <td>No</td>\n",
       "      <td>No</td>\n",
       "      <td>No</td>\n",
       "      <td>4.10</td>\n",
       "      <td>2.62</td>\n",
       "      <td>11.04</td>\n",
       "      <td>2.46</td>\n",
       "      <td>Medium</td>\n",
       "      <td>Benign</td>\n",
       "    </tr>\n",
       "    <tr>\n",
       "      <th>4</th>\n",
       "      <td>5</td>\n",
       "      <td>35</td>\n",
       "      <td>Female</td>\n",
       "      <td>Germany</td>\n",
       "      <td>African</td>\n",
       "      <td>Yes</td>\n",
       "      <td>Yes</td>\n",
       "      <td>No</td>\n",
       "      <td>No</td>\n",
       "      <td>No</td>\n",
       "      <td>No</td>\n",
       "      <td>9.10</td>\n",
       "      <td>2.11</td>\n",
       "      <td>10.71</td>\n",
       "      <td>2.11</td>\n",
       "      <td>High</td>\n",
       "      <td>Benign</td>\n",
       "    </tr>\n",
       "  </tbody>\n",
       "</table>\n",
       "</div>"
      ],
      "text/plain": [
       "   Patient_ID  Age  Gender  Country  Ethnicity Family_History  \\\n",
       "0           1   66    Male   Russia  Caucasian             No   \n",
       "1           2   29    Male  Germany   Hispanic             No   \n",
       "2           3   86    Male  Nigeria  Caucasian             No   \n",
       "3           4   75  Female    India      Asian             No   \n",
       "4           5   35  Female  Germany    African            Yes   \n",
       "\n",
       "  Radiation_Exposure Iodine_Deficiency Smoking Obesity Diabetes  TSH_Level  \\\n",
       "0                Yes                No      No      No       No       9.37   \n",
       "1                Yes                No      No      No       No       1.83   \n",
       "2                 No                No      No      No       No       6.26   \n",
       "3                 No                No      No      No       No       4.10   \n",
       "4                Yes                No      No      No       No       9.10   \n",
       "\n",
       "   T3_Level  T4_Level  Nodule_Size Thyroid_Cancer_Risk Diagnosis  \n",
       "0      1.67      6.16         1.08                 Low    Benign  \n",
       "1      1.73     10.54         4.05                 Low    Benign  \n",
       "2      2.59     10.57         4.61                 Low    Benign  \n",
       "3      2.62     11.04         2.46              Medium    Benign  \n",
       "4      2.11     10.71         2.11                High    Benign  "
      ]
     },
     "execution_count": 9,
     "metadata": {},
     "output_type": "execute_result"
    }
   ],
   "source": [
    "# fetching top rows\n",
    "df.head()"
   ]
  },
  {
   "cell_type": "markdown",
   "id": "c0e65ccf-3ad3-46a4-a623-8d363a80f942",
   "metadata": {},
   "source": [
    "Data Cleaning & Preprocessing "
   ]
  },
  {
   "cell_type": "code",
   "execution_count": 10,
   "id": "bfa0f285-6d98-4a33-b028-321d7270ee42",
   "metadata": {},
   "outputs": [
    {
     "name": "stdout",
     "output_type": "stream",
     "text": [
      "<class 'pandas.core.frame.DataFrame'>\n",
      "RangeIndex: 212691 entries, 0 to 212690\n",
      "Data columns (total 17 columns):\n",
      " #   Column               Non-Null Count   Dtype  \n",
      "---  ------               --------------   -----  \n",
      " 0   Patient_ID           212691 non-null  int64  \n",
      " 1   Age                  212691 non-null  int64  \n",
      " 2   Gender               212691 non-null  object \n",
      " 3   Country              212691 non-null  object \n",
      " 4   Ethnicity            212691 non-null  object \n",
      " 5   Family_History       212691 non-null  object \n",
      " 6   Radiation_Exposure   212691 non-null  object \n",
      " 7   Iodine_Deficiency    212691 non-null  object \n",
      " 8   Smoking              212691 non-null  object \n",
      " 9   Obesity              212691 non-null  object \n",
      " 10  Diabetes             212691 non-null  object \n",
      " 11  TSH_Level            212691 non-null  float64\n",
      " 12  T3_Level             212691 non-null  float64\n",
      " 13  T4_Level             212691 non-null  float64\n",
      " 14  Nodule_Size          212691 non-null  float64\n",
      " 15  Thyroid_Cancer_Risk  212691 non-null  object \n",
      " 16  Diagnosis            212691 non-null  object \n",
      "dtypes: float64(4), int64(2), object(11)\n",
      "memory usage: 27.6+ MB\n"
     ]
    }
   ],
   "source": [
    "# checking information of data\n",
    "df.info()"
   ]
  },
  {
   "cell_type": "code",
   "execution_count": 11,
   "id": "77f077f0-ecf9-4aa2-975d-be8e16b8f343",
   "metadata": {},
   "outputs": [
    {
     "data": {
      "text/plain": [
       "Patient_ID             0\n",
       "Age                    0\n",
       "Gender                 0\n",
       "Country                0\n",
       "Ethnicity              0\n",
       "Family_History         0\n",
       "Radiation_Exposure     0\n",
       "Iodine_Deficiency      0\n",
       "Smoking                0\n",
       "Obesity                0\n",
       "Diabetes               0\n",
       "TSH_Level              0\n",
       "T3_Level               0\n",
       "T4_Level               0\n",
       "Nodule_Size            0\n",
       "Thyroid_Cancer_Risk    0\n",
       "Diagnosis              0\n",
       "dtype: int64"
      ]
     },
     "execution_count": 11,
     "metadata": {},
     "output_type": "execute_result"
    }
   ],
   "source": [
    "# Checking for Null Values\n",
    "df.isnull().sum()"
   ]
  },
  {
   "cell_type": "code",
   "execution_count": 12,
   "id": "edebf8c3-5a92-4124-93aa-54c6d745913a",
   "metadata": {},
   "outputs": [],
   "source": [
    "# Filling missing Values in the age column with the mean age\n",
    "df[\"Age\"]=df[\"Age\"].fillna(df[\"Age\"].mean())"
   ]
  },
  {
   "cell_type": "code",
   "execution_count": 13,
   "id": "3bea043e-28b4-4bc0-86da-f72fe089e63f",
   "metadata": {},
   "outputs": [],
   "source": [
    "#Droping all rows with missing (NAN) values from the data set\n",
    "df.dropna(inplace=True)"
   ]
  },
  {
   "cell_type": "code",
   "execution_count": 14,
   "id": "f10bf1e6-4dd6-4429-b3c8-c7c5127b1b93",
   "metadata": {},
   "outputs": [
    {
     "data": {
      "text/plain": [
       "Patient_ID             0\n",
       "Age                    0\n",
       "Gender                 0\n",
       "Country                0\n",
       "Ethnicity              0\n",
       "Family_History         0\n",
       "Radiation_Exposure     0\n",
       "Iodine_Deficiency      0\n",
       "Smoking                0\n",
       "Obesity                0\n",
       "Diabetes               0\n",
       "TSH_Level              0\n",
       "T3_Level               0\n",
       "T4_Level               0\n",
       "Nodule_Size            0\n",
       "Thyroid_Cancer_Risk    0\n",
       "Diagnosis              0\n",
       "dtype: int64"
      ]
     },
     "execution_count": 14,
     "metadata": {},
     "output_type": "execute_result"
    }
   ],
   "source": [
    "# Checking for Null Values\n",
    "df.isnull().sum()"
   ]
  },
  {
   "cell_type": "code",
   "execution_count": 15,
   "id": "4a5ec643-3da2-482a-b2d7-aaa6e0778c71",
   "metadata": {},
   "outputs": [],
   "source": [
    "# Drop unnessasory columns (Patient_ID)\n",
    "df.drop(columns=\"Patient_ID\",axis=1,inplace=True)"
   ]
  },
  {
   "cell_type": "markdown",
   "id": "0743860c-1716-4727-9fbc-08d57db01028",
   "metadata": {},
   "source": [
    "Why i drop Patient_ID column?"
   ]
  },
  {
   "cell_type": "raw",
   "id": "444121dc-cc4d-44b9-955e-8c2325178f9f",
   "metadata": {},
   "source": [
    "patient_ID is a unique identifier of dataset and it is irrelevant for prediction & analysis."
   ]
  },
  {
   "cell_type": "code",
   "execution_count": 16,
   "id": "6244671b-df04-4e98-b287-a3c079ba6401",
   "metadata": {},
   "outputs": [
    {
     "data": {
      "text/html": [
       "<div>\n",
       "<style scoped>\n",
       "    .dataframe tbody tr th:only-of-type {\n",
       "        vertical-align: middle;\n",
       "    }\n",
       "\n",
       "    .dataframe tbody tr th {\n",
       "        vertical-align: top;\n",
       "    }\n",
       "\n",
       "    .dataframe thead th {\n",
       "        text-align: right;\n",
       "    }\n",
       "</style>\n",
       "<table border=\"1\" class=\"dataframe\">\n",
       "  <thead>\n",
       "    <tr style=\"text-align: right;\">\n",
       "      <th></th>\n",
       "      <th>Age</th>\n",
       "      <th>Gender</th>\n",
       "      <th>Country</th>\n",
       "      <th>Ethnicity</th>\n",
       "      <th>Family_History</th>\n",
       "      <th>Radiation_Exposure</th>\n",
       "      <th>Iodine_Deficiency</th>\n",
       "      <th>Smoking</th>\n",
       "      <th>Obesity</th>\n",
       "      <th>Diabetes</th>\n",
       "      <th>TSH_Level</th>\n",
       "      <th>T3_Level</th>\n",
       "      <th>T4_Level</th>\n",
       "      <th>Nodule_Size</th>\n",
       "      <th>Thyroid_Cancer_Risk</th>\n",
       "      <th>Diagnosis</th>\n",
       "    </tr>\n",
       "  </thead>\n",
       "  <tbody>\n",
       "    <tr>\n",
       "      <th>0</th>\n",
       "      <td>66</td>\n",
       "      <td>Male</td>\n",
       "      <td>Russia</td>\n",
       "      <td>Caucasian</td>\n",
       "      <td>No</td>\n",
       "      <td>Yes</td>\n",
       "      <td>No</td>\n",
       "      <td>No</td>\n",
       "      <td>No</td>\n",
       "      <td>No</td>\n",
       "      <td>9.37</td>\n",
       "      <td>1.67</td>\n",
       "      <td>6.16</td>\n",
       "      <td>1.08</td>\n",
       "      <td>Low</td>\n",
       "      <td>Benign</td>\n",
       "    </tr>\n",
       "    <tr>\n",
       "      <th>1</th>\n",
       "      <td>29</td>\n",
       "      <td>Male</td>\n",
       "      <td>Germany</td>\n",
       "      <td>Hispanic</td>\n",
       "      <td>No</td>\n",
       "      <td>Yes</td>\n",
       "      <td>No</td>\n",
       "      <td>No</td>\n",
       "      <td>No</td>\n",
       "      <td>No</td>\n",
       "      <td>1.83</td>\n",
       "      <td>1.73</td>\n",
       "      <td>10.54</td>\n",
       "      <td>4.05</td>\n",
       "      <td>Low</td>\n",
       "      <td>Benign</td>\n",
       "    </tr>\n",
       "    <tr>\n",
       "      <th>2</th>\n",
       "      <td>86</td>\n",
       "      <td>Male</td>\n",
       "      <td>Nigeria</td>\n",
       "      <td>Caucasian</td>\n",
       "      <td>No</td>\n",
       "      <td>No</td>\n",
       "      <td>No</td>\n",
       "      <td>No</td>\n",
       "      <td>No</td>\n",
       "      <td>No</td>\n",
       "      <td>6.26</td>\n",
       "      <td>2.59</td>\n",
       "      <td>10.57</td>\n",
       "      <td>4.61</td>\n",
       "      <td>Low</td>\n",
       "      <td>Benign</td>\n",
       "    </tr>\n",
       "    <tr>\n",
       "      <th>3</th>\n",
       "      <td>75</td>\n",
       "      <td>Female</td>\n",
       "      <td>India</td>\n",
       "      <td>Asian</td>\n",
       "      <td>No</td>\n",
       "      <td>No</td>\n",
       "      <td>No</td>\n",
       "      <td>No</td>\n",
       "      <td>No</td>\n",
       "      <td>No</td>\n",
       "      <td>4.10</td>\n",
       "      <td>2.62</td>\n",
       "      <td>11.04</td>\n",
       "      <td>2.46</td>\n",
       "      <td>Medium</td>\n",
       "      <td>Benign</td>\n",
       "    </tr>\n",
       "    <tr>\n",
       "      <th>4</th>\n",
       "      <td>35</td>\n",
       "      <td>Female</td>\n",
       "      <td>Germany</td>\n",
       "      <td>African</td>\n",
       "      <td>Yes</td>\n",
       "      <td>Yes</td>\n",
       "      <td>No</td>\n",
       "      <td>No</td>\n",
       "      <td>No</td>\n",
       "      <td>No</td>\n",
       "      <td>9.10</td>\n",
       "      <td>2.11</td>\n",
       "      <td>10.71</td>\n",
       "      <td>2.11</td>\n",
       "      <td>High</td>\n",
       "      <td>Benign</td>\n",
       "    </tr>\n",
       "  </tbody>\n",
       "</table>\n",
       "</div>"
      ],
      "text/plain": [
       "   Age  Gender  Country  Ethnicity Family_History Radiation_Exposure  \\\n",
       "0   66    Male   Russia  Caucasian             No                Yes   \n",
       "1   29    Male  Germany   Hispanic             No                Yes   \n",
       "2   86    Male  Nigeria  Caucasian             No                 No   \n",
       "3   75  Female    India      Asian             No                 No   \n",
       "4   35  Female  Germany    African            Yes                Yes   \n",
       "\n",
       "  Iodine_Deficiency Smoking Obesity Diabetes  TSH_Level  T3_Level  T4_Level  \\\n",
       "0                No      No      No       No       9.37      1.67      6.16   \n",
       "1                No      No      No       No       1.83      1.73     10.54   \n",
       "2                No      No      No       No       6.26      2.59     10.57   \n",
       "3                No      No      No       No       4.10      2.62     11.04   \n",
       "4                No      No      No       No       9.10      2.11     10.71   \n",
       "\n",
       "   Nodule_Size Thyroid_Cancer_Risk Diagnosis  \n",
       "0         1.08                 Low    Benign  \n",
       "1         4.05                 Low    Benign  \n",
       "2         4.61                 Low    Benign  \n",
       "3         2.46              Medium    Benign  \n",
       "4         2.11                High    Benign  "
      ]
     },
     "execution_count": 16,
     "metadata": {},
     "output_type": "execute_result"
    }
   ],
   "source": [
    "df.head()"
   ]
  },
  {
   "cell_type": "code",
   "execution_count": 17,
   "id": "b042ae33-ad0b-49b6-b2b2-6f074adabd07",
   "metadata": {},
   "outputs": [],
   "source": [
    "#changing datatype of Age column from float to int\n",
    "df[\"Age\"]=df[\"Age\"].astype(int)"
   ]
  },
  {
   "cell_type": "code",
   "execution_count": 18,
   "id": "6f6ae21f-66bc-4ffb-bbf3-308857650d9a",
   "metadata": {},
   "outputs": [
    {
     "data": {
      "text/plain": [
       "array([66, 29, 86, 75, 35, 89, 38, 17, 36, 67, 16, 44, 52, 78, 74, 47, 72,\n",
       "       63, 73, 56, 76, 61, 65, 69, 21, 87, 53, 32, 18, 28, 23, 85, 58, 22,\n",
       "       49, 50, 64, 20, 68, 77, 48, 88, 62, 54, 40, 55, 43, 59, 79, 15, 25,\n",
       "       19, 42, 26, 37, 51, 41, 57, 27, 46, 80, 71, 84, 70, 33, 82, 31, 83,\n",
       "       30, 34, 81, 45, 39, 60, 24])"
      ]
     },
     "execution_count": 18,
     "metadata": {},
     "output_type": "execute_result"
    }
   ],
   "source": [
    "#checking all unique ages in age column\n",
    "df[\"Age\"].unique()"
   ]
  },
  {
   "cell_type": "code",
   "execution_count": 19,
   "id": "8c6fc59e-b47b-432c-8f74-dfea70c53f5b",
   "metadata": {},
   "outputs": [
    {
     "data": {
      "text/plain": [
       "Country\n",
       "India          42496\n",
       "China          31978\n",
       "Nigeria        31918\n",
       "Brazil         21413\n",
       "Russia         21297\n",
       "Japan          16867\n",
       "South Korea    14965\n",
       "UK             10642\n",
       "USA            10558\n",
       "Germany        10557\n",
       "Name: count, dtype: int64"
      ]
     },
     "execution_count": 19,
     "metadata": {},
     "output_type": "execute_result"
    }
   ],
   "source": [
    "# seeing no of patients from each country\n",
    "df[\"Country\"].value_counts()"
   ]
  },
  {
   "cell_type": "code",
   "execution_count": 20,
   "id": "ff01267d-85d2-431e-a539-7eba09dfbac1",
   "metadata": {},
   "outputs": [
    {
     "data": {
      "text/plain": [
       "Ethnicity\n",
       "Caucasian         63669\n",
       "Asian             53261\n",
       "African           42414\n",
       "Hispanic          32012\n",
       "Middle Eastern    21335\n",
       "Name: count, dtype: int64"
      ]
     },
     "execution_count": 20,
     "metadata": {},
     "output_type": "execute_result"
    }
   ],
   "source": [
    "#seeing no of patients from each ethenic baground\n",
    "df[\"Ethnicity\"].value_counts()"
   ]
  },
  {
   "cell_type": "code",
   "execution_count": 21,
   "id": "72f55115-0327-439e-b621-5c15f26dde1a",
   "metadata": {},
   "outputs": [
    {
     "data": {
      "text/html": [
       "<div>\n",
       "<style scoped>\n",
       "    .dataframe tbody tr th:only-of-type {\n",
       "        vertical-align: middle;\n",
       "    }\n",
       "\n",
       "    .dataframe tbody tr th {\n",
       "        vertical-align: top;\n",
       "    }\n",
       "\n",
       "    .dataframe thead th {\n",
       "        text-align: right;\n",
       "    }\n",
       "</style>\n",
       "<table border=\"1\" class=\"dataframe\">\n",
       "  <thead>\n",
       "    <tr style=\"text-align: right;\">\n",
       "      <th></th>\n",
       "      <th>Age</th>\n",
       "      <th>TSH_Level</th>\n",
       "      <th>T3_Level</th>\n",
       "      <th>T4_Level</th>\n",
       "      <th>Nodule_Size</th>\n",
       "    </tr>\n",
       "  </thead>\n",
       "  <tbody>\n",
       "    <tr>\n",
       "      <th>count</th>\n",
       "      <td>212691.000000</td>\n",
       "      <td>212691.000000</td>\n",
       "      <td>212691.000000</td>\n",
       "      <td>212691.000000</td>\n",
       "      <td>212691.000000</td>\n",
       "    </tr>\n",
       "    <tr>\n",
       "      <th>mean</th>\n",
       "      <td>51.918497</td>\n",
       "      <td>5.045102</td>\n",
       "      <td>2.001727</td>\n",
       "      <td>8.246204</td>\n",
       "      <td>2.503403</td>\n",
       "    </tr>\n",
       "    <tr>\n",
       "      <th>std</th>\n",
       "      <td>21.632815</td>\n",
       "      <td>2.860264</td>\n",
       "      <td>0.866248</td>\n",
       "      <td>2.164188</td>\n",
       "      <td>1.444631</td>\n",
       "    </tr>\n",
       "    <tr>\n",
       "      <th>min</th>\n",
       "      <td>15.000000</td>\n",
       "      <td>0.100000</td>\n",
       "      <td>0.500000</td>\n",
       "      <td>4.500000</td>\n",
       "      <td>0.000000</td>\n",
       "    </tr>\n",
       "    <tr>\n",
       "      <th>25%</th>\n",
       "      <td>33.000000</td>\n",
       "      <td>2.570000</td>\n",
       "      <td>1.250000</td>\n",
       "      <td>6.370000</td>\n",
       "      <td>1.250000</td>\n",
       "    </tr>\n",
       "    <tr>\n",
       "      <th>50%</th>\n",
       "      <td>52.000000</td>\n",
       "      <td>5.040000</td>\n",
       "      <td>2.000000</td>\n",
       "      <td>8.240000</td>\n",
       "      <td>2.510000</td>\n",
       "    </tr>\n",
       "    <tr>\n",
       "      <th>75%</th>\n",
       "      <td>71.000000</td>\n",
       "      <td>7.520000</td>\n",
       "      <td>2.750000</td>\n",
       "      <td>10.120000</td>\n",
       "      <td>3.760000</td>\n",
       "    </tr>\n",
       "    <tr>\n",
       "      <th>max</th>\n",
       "      <td>89.000000</td>\n",
       "      <td>10.000000</td>\n",
       "      <td>3.500000</td>\n",
       "      <td>12.000000</td>\n",
       "      <td>5.000000</td>\n",
       "    </tr>\n",
       "  </tbody>\n",
       "</table>\n",
       "</div>"
      ],
      "text/plain": [
       "                 Age      TSH_Level       T3_Level       T4_Level  \\\n",
       "count  212691.000000  212691.000000  212691.000000  212691.000000   \n",
       "mean       51.918497       5.045102       2.001727       8.246204   \n",
       "std        21.632815       2.860264       0.866248       2.164188   \n",
       "min        15.000000       0.100000       0.500000       4.500000   \n",
       "25%        33.000000       2.570000       1.250000       6.370000   \n",
       "50%        52.000000       5.040000       2.000000       8.240000   \n",
       "75%        71.000000       7.520000       2.750000      10.120000   \n",
       "max        89.000000      10.000000       3.500000      12.000000   \n",
       "\n",
       "         Nodule_Size  \n",
       "count  212691.000000  \n",
       "mean        2.503403  \n",
       "std         1.444631  \n",
       "min         0.000000  \n",
       "25%         1.250000  \n",
       "50%         2.510000  \n",
       "75%         3.760000  \n",
       "max         5.000000  "
      ]
     },
     "execution_count": 21,
     "metadata": {},
     "output_type": "execute_result"
    }
   ],
   "source": [
    "#Seeing Data Description\n",
    "df.describe()"
   ]
  },
  {
   "cell_type": "markdown",
   "id": "dde6e1f0-26c5-4767-b2d2-40b67b1adb3f",
   "metadata": {},
   "source": [
    "Data Analysis Through Q & A"
   ]
  },
  {
   "cell_type": "markdown",
   "id": "c356ed9a-9f43-4ee7-a55d-0ed69860c8d1",
   "metadata": {},
   "source": [
    "Q 1 : What is Total Number of Patients?"
   ]
  },
  {
   "cell_type": "code",
   "execution_count": 23,
   "id": "c11b3054-898f-4361-b8ae-e2df4388cd5d",
   "metadata": {},
   "outputs": [
    {
     "data": {
      "text/plain": [
       "212691"
      ]
     },
     "execution_count": 23,
     "metadata": {},
     "output_type": "execute_result"
    }
   ],
   "source": [
    "Total_Patient=df[\"Age\"].count()\n",
    "Total_Patient"
   ]
  },
  {
   "cell_type": "markdown",
   "id": "fd5a2aea-8f69-4833-a2a5-92271498f151",
   "metadata": {},
   "source": [
    "Q 2 : What is the Average Age of Patient?"
   ]
  },
  {
   "cell_type": "code",
   "execution_count": 24,
   "id": "ef1f0c0c-80ef-4a2e-a4b5-a2e51cf6c451",
   "metadata": {},
   "outputs": [
    {
     "data": {
      "text/plain": [
       "51.918496786417855"
      ]
     },
     "execution_count": 24,
     "metadata": {},
     "output_type": "execute_result"
    }
   ],
   "source": [
    "df[\"Age\"].mean()"
   ]
  },
  {
   "cell_type": "markdown",
   "id": "b43d866c-1479-4f70-8d33-262ff771c876",
   "metadata": {},
   "source": [
    "Q 3 : How Does The Average Age Differ by Type of cancer Dignosed with?"
   ]
  },
  {
   "cell_type": "code",
   "execution_count": 25,
   "id": "0aa22239-56da-4e65-9428-9bda22bceafe",
   "metadata": {},
   "outputs": [
    {
     "data": {
      "text/plain": [
       "Diagnosis\n",
       "Benign       51.917124\n",
       "Malignant    51.923023\n",
       "Name: Age, dtype: float64"
      ]
     },
     "execution_count": 25,
     "metadata": {},
     "output_type": "execute_result"
    }
   ],
   "source": [
    "df.groupby(\"Diagnosis\")[\"Age\"].mean()"
   ]
  },
  {
   "cell_type": "markdown",
   "id": "dcba1898-6170-4ba9-8489-2d2aa86bfc32",
   "metadata": {},
   "source": [
    "Q 4 : How many patients are dignosed with malignant and benign thyroid cancer."
   ]
  },
  {
   "cell_type": "code",
   "execution_count": 26,
   "id": "a4c6f1ec-d2ec-4024-8f48-502f0fbd1d2e",
   "metadata": {},
   "outputs": [
    {
     "data": {
      "text/plain": [
       "Diagnosis\n",
       "Benign       163196\n",
       "Malignant     49495\n",
       "Name: count, dtype: int64"
      ]
     },
     "execution_count": 26,
     "metadata": {},
     "output_type": "execute_result"
    }
   ],
   "source": [
    "Total_Patient_by_Ctype=df[\"Diagnosis\"].value_counts()\n",
    "Total_Patient_by_Ctype"
   ]
  },
  {
   "cell_type": "markdown",
   "id": "34a095d7-130b-4fe4-8ee3-03f72e13209b",
   "metadata": {},
   "source": [
    "Q 5 : What is percentage of  patients dignosed with malignant and benign thyroid cancer."
   ]
  },
  {
   "cell_type": "code",
   "execution_count": 27,
   "id": "1858c9b3-9b87-41a0-84a0-572b9dfa6f64",
   "metadata": {},
   "outputs": [
    {
     "data": {
      "text/plain": [
       "Diagnosis\n",
       "Benign       76.729152\n",
       "Malignant    23.270848\n",
       "Name: count, dtype: float64"
      ]
     },
     "execution_count": 27,
     "metadata": {},
     "output_type": "execute_result"
    }
   ],
   "source": [
    "parcent_of_patient_by_Ctype=(Total_Patient_by_Ctype/Total_Patient) * 100\n",
    "parcent_of_patient_by_Ctype"
   ]
  },
  {
   "cell_type": "markdown",
   "id": "1036add1-e2a5-48d0-85cd-228316d67b52",
   "metadata": {},
   "source": [
    "Q 6 : How many Male and Female patients are Dignosed."
   ]
  },
  {
   "cell_type": "code",
   "execution_count": 28,
   "id": "2eb1c96d-265b-4c74-804d-9a890e072954",
   "metadata": {},
   "outputs": [
    {
     "data": {
      "text/plain": [
       "Gender\n",
       "Female    127527\n",
       "Male       85164\n",
       "Name: count, dtype: int64"
      ]
     },
     "execution_count": 28,
     "metadata": {},
     "output_type": "execute_result"
    }
   ],
   "source": [
    "Total_Patient_by_Gender=df[\"Gender\"].value_counts()\n",
    "Total_Patient_by_Gender"
   ]
  },
  {
   "cell_type": "markdown",
   "id": "b3eeae1c-6a2b-4392-bc3f-19fcd205f727",
   "metadata": {},
   "source": [
    "Q 7 : per entage of Male and Female patients Dignosed with cancer."
   ]
  },
  {
   "cell_type": "code",
   "execution_count": 29,
   "id": "f172cf4e-f0c9-4132-b477-cddbb7e6ecd0",
   "metadata": {},
   "outputs": [
    {
     "data": {
      "text/plain": [
       "Gender\n",
       "Female    59.958813\n",
       "Male      40.041187\n",
       "Name: count, dtype: float64"
      ]
     },
     "execution_count": 29,
     "metadata": {},
     "output_type": "execute_result"
    }
   ],
   "source": [
    "parcent_of_patient_by_Gender=(Total_Patient_by_Gender/Total_Patient) * 100\n",
    "parcent_of_patient_by_Gender"
   ]
  },
  {
   "cell_type": "markdown",
   "id": "3e0297dc-6b04-4cb8-a533-f5d44f525e7e",
   "metadata": {},
   "source": [
    "Q 8 : Risk Level of Thyroid Cancer Amoung the Patients."
   ]
  },
  {
   "cell_type": "code",
   "execution_count": 30,
   "id": "edd9be53-4538-43fe-83a0-6ee034079971",
   "metadata": {},
   "outputs": [
    {
     "data": {
      "text/plain": [
       "Thyroid_Cancer_Risk\n",
       "Low       108388\n",
       "Medium     72400\n",
       "High       31903\n",
       "Name: count, dtype: int64"
      ]
     },
     "execution_count": 30,
     "metadata": {},
     "output_type": "execute_result"
    }
   ],
   "source": [
    "Total_Patient_by_Rlevel=df[\"Thyroid_Cancer_Risk\"].value_counts()\n",
    "Total_Patient_by_Rlevel"
   ]
  },
  {
   "cell_type": "markdown",
   "id": "b8ca96a0-1203-4cf5-93bb-5fb3327d5a35",
   "metadata": {},
   "source": [
    "Q 9 : percent of Risk Level of Thyroid Cancer Amoung the Patients."
   ]
  },
  {
   "cell_type": "code",
   "execution_count": 31,
   "id": "c8f75b95-b3e6-4224-847a-8e56dba1af28",
   "metadata": {},
   "outputs": [
    {
     "data": {
      "text/plain": [
       "Thyroid_Cancer_Risk\n",
       "Low       50.960313\n",
       "Medium    34.039992\n",
       "High      14.999694\n",
       "Name: count, dtype: float64"
      ]
     },
     "execution_count": 31,
     "metadata": {},
     "output_type": "execute_result"
    }
   ],
   "source": [
    "parcent_of_patient_by_Rlevel=(Total_Patient_by_Rlevel/Total_Patient) * 100\n",
    "parcent_of_patient_by_Rlevel"
   ]
  },
  {
   "cell_type": "markdown",
   "id": "6c28904f-265b-45e5-9f20-fe4c355bfc7c",
   "metadata": {},
   "source": [
    "Q 10 : Rate of Malignant Cancer"
   ]
  },
  {
   "cell_type": "code",
   "execution_count": 32,
   "id": "84a32fa9-1096-449a-9763-a29766fecce0",
   "metadata": {},
   "outputs": [
    {
     "data": {
      "text/plain": [
       "49495"
      ]
     },
     "execution_count": 32,
     "metadata": {},
     "output_type": "execute_result"
    }
   ],
   "source": [
    "Malignant_C=df[df['Diagnosis']==\"Malignant\"].shape[0]\n",
    "Malignant_C"
   ]
  },
  {
   "cell_type": "code",
   "execution_count": 33,
   "id": "67fa9195-e905-4e26-9693-8a4d0176e237",
   "metadata": {},
   "outputs": [
    {
     "data": {
      "text/plain": [
       "23.270848319863088"
      ]
     },
     "execution_count": 33,
     "metadata": {},
     "output_type": "execute_result"
    }
   ],
   "source": [
    "R_M_C=(Malignant_C /Total_Patient)*100\n",
    "R_M_C"
   ]
  },
  {
   "cell_type": "markdown",
   "id": "43dd5259-ea4e-491b-9d0e-dbf38d70d3f9",
   "metadata": {},
   "source": [
    "Q 11 : Rate of  Benign Cancer"
   ]
  },
  {
   "cell_type": "code",
   "execution_count": 34,
   "id": "bb96e7fb-ab81-4228-95f4-e0e507ef9aad",
   "metadata": {},
   "outputs": [
    {
     "data": {
      "text/plain": [
       "163196"
      ]
     },
     "execution_count": 34,
     "metadata": {},
     "output_type": "execute_result"
    }
   ],
   "source": [
    "Benign_C=df[df['Diagnosis']==\"Benign\"].shape[0]\n",
    "Benign_C"
   ]
  },
  {
   "cell_type": "code",
   "execution_count": 35,
   "id": "8d1a6342-1bed-49b7-98bc-a4c5327375ab",
   "metadata": {},
   "outputs": [
    {
     "data": {
      "text/plain": [
       "76.72915168013691"
      ]
     },
     "execution_count": 35,
     "metadata": {},
     "output_type": "execute_result"
    }
   ],
   "source": [
    "R_B_C=(Benign_C /Total_Patient)*100\n",
    "R_B_C"
   ]
  },
  {
   "cell_type": "markdown",
   "id": "bc4676f3-e66b-4da2-979c-aa077d506781",
   "metadata": {},
   "source": [
    "Data Visualization"
   ]
  },
  {
   "cell_type": "markdown",
   "id": "f70f25b7-0de1-4c50-9413-d3e6f0f6adb6",
   "metadata": {},
   "source": [
    "Q 1 : What is the distribution of Malignant Vs Benign cases ?"
   ]
  },
  {
   "cell_type": "code",
   "execution_count": 36,
   "id": "07797aba-1c56-450b-963d-0f9f5c8b5de1",
   "metadata": {},
   "outputs": [
    {
     "data": {
      "image/png": "[encoded data removed]",
      "text/plain": [
       "<Figure size 600x600 with 1 Axes>"
      ]
     },
     "metadata": {},
     "output_type": "display_data"
    }
   ],
   "source": [
    "diagnosis_counts=df[\"Diagnosis\"].value_counts()\n",
    "\n",
    "plt.figure(figsize=(6,6))\n",
    "plt.pie(diagnosis_counts,labels=diagnosis_counts.index,autopct=\"%1.1f%%\",colors=[\"#CD5C5C\",\"#138d75\"],startangle=90)\n",
    "plt.title(\"Distribution Of Thyroid Cancer\")\n",
    "plt.show()"
   ]
  },
  {
   "cell_type": "markdown",
   "id": "1df16125-349d-4297-9ae5-8ad14105fa79",
   "metadata": {},
   "source": [
    "Outcome:"
   ]
  },
  {
   "cell_type": "raw",
   "id": "0b2fbb60-88bd-4700-8a95-a5033e4fdf51",
   "metadata": {},
   "source": [
    "The majority of detected thyroid nodules are non-cancerous."
   ]
  },
  {
   "cell_type": "markdown",
   "id": "bdd179a7-f836-4c82-ab30-b142a931462b",
   "metadata": {},
   "source": [
    "Q : What is the distribution of gender ?"
   ]
  },
  {
   "cell_type": "code",
   "execution_count": 37,
   "id": "7fd181fd-9ca3-45b1-8739-6ab0c5ed05ff",
   "metadata": {},
   "outputs": [
    {
     "data": {
      "image/png": "[encoded data removed]",
      "text/plain": [
       "<Figure size 600x600 with 1 Axes>"
      ]
     },
     "metadata": {},
     "output_type": "display_data"
    }
   ],
   "source": [
    "plt.figure(figsize=(6,6))\n",
    "df[\"Gender\"].value_counts().plot.pie(autopct='%1.1f%%', startangle=90, wedgeprops=dict(width=0.5),colors=[\"#CD5C5C\",\"#138d75\"])\n",
    "plt.title('Gender Distribution')\n",
    "plt.ylabel(\"\")\n",
    "plt.show()"
   ]
  },
  {
   "cell_type": "markdown",
   "id": "514da7ac-0974-4fe0-9842-f68581d7b6a7",
   "metadata": {},
   "source": [
    "Outcome:"
   ]
  },
  {
   "cell_type": "raw",
   "id": "8e09a1aa-e800-46da-92be-8d120d04d029",
   "metadata": {},
   "source": [
    "Female are more affected than male"
   ]
  },
  {
   "cell_type": "markdown",
   "id": "c64de77c-e40a-4c9c-89c9-21a5967e5328",
   "metadata": {},
   "source": [
    "Q : Which Country has the max no of Thyroid Patients?"
   ]
  },
  {
   "cell_type": "code",
   "execution_count": 38,
   "id": "ef881e3b-20f7-4cf8-a354-8d8092958a7c",
   "metadata": {},
   "outputs": [
    {
     "data": {
      "image/png": "[encoded data removed]",
      "text/plain": [
       "<Figure size 700x700 with 1 Axes>"
      ]
     },
     "metadata": {},
     "output_type": "display_data"
    }
   ],
   "source": [
    "plt.figure(figsize=(7,7))\n",
    "sns.countplot(data=df,x=\"Country\",hue=\"Diagnosis\",palette=[\"#CD5C5C\",\"#138d75\"])\n",
    "plt.title(\"Country viz Distribution\")\n",
    "plt.xlabel(\"Country\")\n",
    "plt.ylabel(\"Patient Count\")\n",
    "plt.xticks(rotation=45)\n",
    "plt.yticks(rotation=90)\n",
    "plt.show()"
   ]
  },
  {
   "cell_type": "markdown",
   "id": "df46db39-8e74-4897-b805-e89ebf5b31e3",
   "metadata": {},
   "source": [
    "Outcome:"
   ]
  },
  {
   "cell_type": "raw",
   "id": "bbef3d28-bdc2-4abd-9560-3f29e6f1caff",
   "metadata": {},
   "source": [
    "Top countries with higher rate of Thyroid is\n",
    "1 - India\n",
    "2 - China\n",
    "3 - Nigeria"
   ]
  },
  {
   "cell_type": "markdown",
   "id": "53beb9b1-fb9b-407d-955b-4389dbfa8977",
   "metadata": {},
   "source": [
    "Q : What is the Distribution of age across dataset?"
   ]
  },
  {
   "cell_type": "code",
   "execution_count": 39,
   "id": "0bd20cfa-df0e-4956-8790-b66ff7e6de97",
   "metadata": {},
   "outputs": [
    {
     "data": {
      "image/png": "[encoded data removed]",
      "text/plain": [
       "<Figure size 600x600 with 1 Axes>"
      ]
     },
     "metadata": {},
     "output_type": "display_data"
    }
   ],
   "source": [
    "plt.figure(figsize=(6,6))\n",
    "sns.histplot(data=df,x='Age',hue=\"Diagnosis\",kde=True,palette=[\"#CD5C5C\",\"#138d75\"])\n",
    "plt.title(\"Distriburion of Age\")\n",
    "plt.show()"
   ]
  },
  {
   "cell_type": "markdown",
   "id": "1d858299-0ac2-4aaf-a5ad-f14c80ab96c4",
   "metadata": {},
   "source": [
    "Outcome:"
   ]
  },
  {
   "cell_type": "raw",
   "id": "bf3e3352-c06e-4421-9d3f-e18438036e3a",
   "metadata": {},
   "source": [
    "_ Benign cases is dominate across all age groups\n",
    "_ Malignant cases are relatively lower across all age groups\n",
    "_ No strong age specific trend for malignancy"
   ]
  },
  {
   "cell_type": "markdown",
   "id": "08924cd2-326e-4ce5-a7ab-50bf66f25d4d",
   "metadata": {},
   "source": [
    "Q : What is The Distribution of Thyroid Cancer Risk Among male & Female?"
   ]
  },
  {
   "cell_type": "code",
   "execution_count": 40,
   "id": "f4d2f385-c4c1-4e1c-823d-8b64d8c18340",
   "metadata": {},
   "outputs": [
    {
     "data": {
      "image/png": "[encoded data removed]",
      "text/plain": [
       "<Figure size 600x600 with 1 Axes>"
      ]
     },
     "metadata": {},
     "output_type": "display_data"
    }
   ],
   "source": [
    "plt.figure(figsize=(6,6))\n",
    "sns.countplot(data=df,x=\"Thyroid_Cancer_Risk\",hue=\"Gender\",palette=[\"#CD5C5C\",\"#138d75\"])\n",
    "plt.title(\"Gender viz Risk Level Distribution\")\n",
    "plt.show()"
   ]
  },
  {
   "cell_type": "markdown",
   "id": "18ec5b1a-cfcc-4417-801b-0aa6fe8485c2",
   "metadata": {},
   "source": [
    "Outcome:"
   ]
  },
  {
   "cell_type": "raw",
   "id": "05f8b459-6dab-48dc-a58a-1a270d597f11",
   "metadata": {},
   "source": [
    "Females have a higher thyroid cancer risk across all categories"
   ]
  },
  {
   "cell_type": "markdown",
   "id": "944efc48-e356-4926-b11f-979afde94311",
   "metadata": {},
   "source": [
    "Q : Is there any corelation between TSH Level T3 Level and T4 level?"
   ]
  },
  {
   "cell_type": "code",
   "execution_count": 41,
   "id": "2de2c653-1d9d-48f3-a50b-dfbf6ca8efe0",
   "metadata": {},
   "outputs": [
    {
     "data": {
      "image/png": "[encoded data removed]",
      "text/plain": [
       "<Figure size 600x600 with 2 Axes>"
      ]
     },
     "metadata": {},
     "output_type": "display_data"
    }
   ],
   "source": [
    "hormons_level=df[[\"TSH_Level\",\"T3_Level\",\"T4_Level\"]]\n",
    "cm=hormons_level.corr()\n",
    "\n",
    "plt.figure(figsize=(6,6))\n",
    "sns.heatmap(cm,annot=True,fmt=\".2f\")\n",
    "plt.title(\"Corelation between TSH,T3 and T4 Hormones\")\n",
    "plt.show()"
   ]
  },
  {
   "cell_type": "markdown",
   "id": "1f96a7f9-bae2-4f29-b358-87dc7aae24df",
   "metadata": {},
   "source": [
    "Outcome:"
   ]
  },
  {
   "cell_type": "raw",
   "id": "8cc45ea3-b7a8-42f4-8118-71d1a2629fe8",
   "metadata": {},
   "source": [
    "_The correlation is 0.00, meaning no relationship between TSH level,T3 level and T4 level.\n",
    "_TSH, T3 and  T4 levels are independent of each other"
   ]
  },
  {
   "cell_type": "markdown",
   "id": "84884381-7158-4639-92e2-bf0d7f6baa47",
   "metadata": {},
   "source": [
    "Q : What is a Distribution of Nodule size Across data?"
   ]
  },
  {
   "cell_type": "code",
   "execution_count": 42,
   "id": "7be4a536-df00-4b0b-aef9-479f02a0d8b6",
   "metadata": {},
   "outputs": [
    {
     "data": {
      "image/png": "[encoded data removed]",
      "text/plain": [
       "<Figure size 640x480 with 1 Axes>"
      ]
     },
     "metadata": {},
     "output_type": "display_data"
    }
   ],
   "source": [
    "sns.histplot(df[\"Nodule_Size\"], bins=30, kde=True,color=\"#138d75\")\n",
    "plt.title(\"Distribution of Nodule Size\")\n",
    "plt.xlabel(\"Nodule Size\")\n",
    "plt.ylabel(\"Count\")\n",
    "plt.show()"
   ]
  },
  {
   "cell_type": "markdown",
   "id": "f74c8637-a1c5-489e-931d-d2c6b06e3264",
   "metadata": {},
   "source": [
    "Outcome:"
   ]
  },
  {
   "cell_type": "raw",
   "id": "6a0b4350-05cf-4fb0-954f-80ee0d80b61b",
   "metadata": {},
   "source": [
    "_ Uniform Distribution: nodule sizes are evenly distributed across the range (0,5).\n",
    "_ Consistent Frequency: Each category has a similar count \n",
    "_ this indicate no dominant size group"
   ]
  },
  {
   "cell_type": "markdown",
   "id": "1fe039e6-913b-461a-91bb-264eafb29dd1",
   "metadata": {},
   "source": [
    "Q : What is the impact of Family History, Radiation Exposure, Iodine Deficiency, Smoking, Obesity and Diabetes on cancer risk?"
   ]
  },
  {
   "cell_type": "code",
   "execution_count": 43,
   "id": "a0dd183a-af19-4803-9989-b24eaf6cd59d",
   "metadata": {},
   "outputs": [
    {
     "data": {
      "image/png": "[encoded data removed]",
      "text/plain": [
       "<Figure size 1200x600 with 6 Axes>"
      ]
     },
     "metadata": {},
     "output_type": "display_data"
    }
   ],
   "source": [
    "binary_cols = [\"Family_History\", \"Radiation_Exposure\", \"Iodine_Deficiency\", \n",
    "               \"Smoking\", \"Obesity\", \"Diabetes\"]\n",
    "\n",
    "plt.figure(figsize=(12, 6))\n",
    "for i, col in enumerate(binary_cols, 1):\n",
    "    plt.subplot(2, 3, i)\n",
    "    sns.countplot(x=df[col], hue=df[\"Diagnosis\"],palette=[\"#CD5C5C\",\"#138d75\"])\n",
    "    plt.title(col)\n",
    "plt.tight_layout()\n",
    "plt.show()"
   ]
  },
  {
   "cell_type": "markdown",
   "id": "248ae926-b8a2-4bb6-837a-2f6dc3530a02",
   "metadata": {},
   "source": [
    "Outcome:"
   ]
  },
  {
   "cell_type": "raw",
   "id": "70aeea51-628c-4371-a8c9-1d80f0c7080d",
   "metadata": {},
   "source": [
    "_Most patients in the dataset do not have risk factors:\n",
    "For Family History, Radiation Exposure, Iodine Deficiency, Smoking, Obesity, and Diabetes, the majority of cases fall under the \"No\" category.\n",
    "This suggests that most people in the dataset do not exhibit these risk factors."
   ]
  },
  {
   "cell_type": "raw",
   "id": "e6b7dafb-34c0-4da8-953f-c3d647e0bbc0",
   "metadata": {},
   "source": [
    "_Malignant cases are more frequent in those with risk factors:\n",
    "Although the total number of people with Family History, Radiation Exposure, Smoking, Obesity, and Diabetes is lower, the proportion of malignant cases is relatively higher in these groups.\n",
    "This suggests that these factors might contribute to a higher likelihood of thyroid cancer being malignant."
   ]
  },
  {
   "cell_type": "raw",
   "id": "bd282995-3f14-4ef6-bf21-1f6fd40fed46",
   "metadata": {},
   "source": [
    "_Patients without risk factors still have malignant cases.\n",
    "Even among patients who do not have these risk factors, there are still a significant number of malignant cases.\n",
    "This indicates that while these factors may increase the risk, they are not the only causes of thyroid malignancy."
   ]
  },
  {
   "cell_type": "raw",
   "id": "9eeeb658-a157-4c88-9871-5a99c5067b2b",
   "metadata": {},
   "source": [
    "_Iodine Deficiency and Radiation Exposure appear to have a notable impact.\n",
    "There is a noticeable increase in the proportion of malignant cases among those with Iodine Deficiency and Radiation Exposure.\n",
    "This aligns with medical findings that iodine deficiency and radiation exposure are well-known risk factors for thyroid cancer."
   ]
  },
  {
   "cell_type": "markdown",
   "id": "ccae70a6-e9e1-4b88-a274-8fd1e92655ef",
   "metadata": {},
   "source": [
    "                                                              Machine Learning"
   ]
  },
  {
   "cell_type": "markdown",
   "id": "ef893dff-345f-4a00-a11f-f8fc917c3ae8",
   "metadata": {},
   "source": [
    "Handling Catagorial Data of Dataset"
   ]
  },
  {
   "cell_type": "raw",
   "id": "c146eea1-676c-48ef-b31b-86490687d311",
   "metadata": {},
   "source": [
    "Machine learning algorithms can read only numeric data, hence categorical data must be converted into numeric data."
   ]
  },
  {
   "cell_type": "raw",
   "id": "f49e9c79-5361-442d-807c-4938b63f0921",
   "metadata": {},
   "source": [
    "Label encoding is a simple technique of assigning a unique integer value to each category in a categorical variable. "
   ]
  },
  {
   "cell_type": "code",
   "execution_count": 44,
   "id": "76c7f332-88f1-40f8-84db-b9bf76f28be0",
   "metadata": {},
   "outputs": [],
   "source": [
    "#Seprating Catagorial and Numeric data\n",
    "df_cat=df.select_dtypes(object )\n",
    "df_num=df.select_dtypes([int,float])"
   ]
  },
  {
   "cell_type": "code",
   "execution_count": 45,
   "id": "bcfba9b5-f54c-41ff-bafe-c354baeaee7a",
   "metadata": {},
   "outputs": [
    {
     "data": {
      "text/html": [
       "<div>\n",
       "<style scoped>\n",
       "    .dataframe tbody tr th:only-of-type {\n",
       "        vertical-align: middle;\n",
       "    }\n",
       "\n",
       "    .dataframe tbody tr th {\n",
       "        vertical-align: top;\n",
       "    }\n",
       "\n",
       "    .dataframe thead th {\n",
       "        text-align: right;\n",
       "    }\n",
       "</style>\n",
       "<table border=\"1\" class=\"dataframe\">\n",
       "  <thead>\n",
       "    <tr style=\"text-align: right;\">\n",
       "      <th></th>\n",
       "      <th>Gender</th>\n",
       "      <th>Country</th>\n",
       "      <th>Ethnicity</th>\n",
       "      <th>Family_History</th>\n",
       "      <th>Radiation_Exposure</th>\n",
       "      <th>Iodine_Deficiency</th>\n",
       "      <th>Smoking</th>\n",
       "      <th>Obesity</th>\n",
       "      <th>Diabetes</th>\n",
       "      <th>Thyroid_Cancer_Risk</th>\n",
       "      <th>Diagnosis</th>\n",
       "    </tr>\n",
       "  </thead>\n",
       "  <tbody>\n",
       "    <tr>\n",
       "      <th>0</th>\n",
       "      <td>Male</td>\n",
       "      <td>Russia</td>\n",
       "      <td>Caucasian</td>\n",
       "      <td>No</td>\n",
       "      <td>Yes</td>\n",
       "      <td>No</td>\n",
       "      <td>No</td>\n",
       "      <td>No</td>\n",
       "      <td>No</td>\n",
       "      <td>Low</td>\n",
       "      <td>Benign</td>\n",
       "    </tr>\n",
       "    <tr>\n",
       "      <th>1</th>\n",
       "      <td>Male</td>\n",
       "      <td>Germany</td>\n",
       "      <td>Hispanic</td>\n",
       "      <td>No</td>\n",
       "      <td>Yes</td>\n",
       "      <td>No</td>\n",
       "      <td>No</td>\n",
       "      <td>No</td>\n",
       "      <td>No</td>\n",
       "      <td>Low</td>\n",
       "      <td>Benign</td>\n",
       "    </tr>\n",
       "    <tr>\n",
       "      <th>2</th>\n",
       "      <td>Male</td>\n",
       "      <td>Nigeria</td>\n",
       "      <td>Caucasian</td>\n",
       "      <td>No</td>\n",
       "      <td>No</td>\n",
       "      <td>No</td>\n",
       "      <td>No</td>\n",
       "      <td>No</td>\n",
       "      <td>No</td>\n",
       "      <td>Low</td>\n",
       "      <td>Benign</td>\n",
       "    </tr>\n",
       "    <tr>\n",
       "      <th>3</th>\n",
       "      <td>Female</td>\n",
       "      <td>India</td>\n",
       "      <td>Asian</td>\n",
       "      <td>No</td>\n",
       "      <td>No</td>\n",
       "      <td>No</td>\n",
       "      <td>No</td>\n",
       "      <td>No</td>\n",
       "      <td>No</td>\n",
       "      <td>Medium</td>\n",
       "      <td>Benign</td>\n",
       "    </tr>\n",
       "    <tr>\n",
       "      <th>4</th>\n",
       "      <td>Female</td>\n",
       "      <td>Germany</td>\n",
       "      <td>African</td>\n",
       "      <td>Yes</td>\n",
       "      <td>Yes</td>\n",
       "      <td>No</td>\n",
       "      <td>No</td>\n",
       "      <td>No</td>\n",
       "      <td>No</td>\n",
       "      <td>High</td>\n",
       "      <td>Benign</td>\n",
       "    </tr>\n",
       "    <tr>\n",
       "      <th>...</th>\n",
       "      <td>...</td>\n",
       "      <td>...</td>\n",
       "      <td>...</td>\n",
       "      <td>...</td>\n",
       "      <td>...</td>\n",
       "      <td>...</td>\n",
       "      <td>...</td>\n",
       "      <td>...</td>\n",
       "      <td>...</td>\n",
       "      <td>...</td>\n",
       "      <td>...</td>\n",
       "    </tr>\n",
       "    <tr>\n",
       "      <th>212686</th>\n",
       "      <td>Female</td>\n",
       "      <td>India</td>\n",
       "      <td>Asian</td>\n",
       "      <td>No</td>\n",
       "      <td>No</td>\n",
       "      <td>No</td>\n",
       "      <td>No</td>\n",
       "      <td>Yes</td>\n",
       "      <td>No</td>\n",
       "      <td>Low</td>\n",
       "      <td>Benign</td>\n",
       "    </tr>\n",
       "    <tr>\n",
       "      <th>212687</th>\n",
       "      <td>Male</td>\n",
       "      <td>Japan</td>\n",
       "      <td>Middle Eastern</td>\n",
       "      <td>No</td>\n",
       "      <td>No</td>\n",
       "      <td>No</td>\n",
       "      <td>No</td>\n",
       "      <td>Yes</td>\n",
       "      <td>No</td>\n",
       "      <td>Medium</td>\n",
       "      <td>Benign</td>\n",
       "    </tr>\n",
       "    <tr>\n",
       "      <th>212688</th>\n",
       "      <td>Female</td>\n",
       "      <td>Nigeria</td>\n",
       "      <td>Hispanic</td>\n",
       "      <td>No</td>\n",
       "      <td>No</td>\n",
       "      <td>No</td>\n",
       "      <td>No</td>\n",
       "      <td>No</td>\n",
       "      <td>Yes</td>\n",
       "      <td>Medium</td>\n",
       "      <td>Benign</td>\n",
       "    </tr>\n",
       "    <tr>\n",
       "      <th>212689</th>\n",
       "      <td>Female</td>\n",
       "      <td>Brazil</td>\n",
       "      <td>Middle Eastern</td>\n",
       "      <td>No</td>\n",
       "      <td>No</td>\n",
       "      <td>No</td>\n",
       "      <td>No</td>\n",
       "      <td>No</td>\n",
       "      <td>Yes</td>\n",
       "      <td>Medium</td>\n",
       "      <td>Benign</td>\n",
       "    </tr>\n",
       "    <tr>\n",
       "      <th>212690</th>\n",
       "      <td>Female</td>\n",
       "      <td>Japan</td>\n",
       "      <td>Middle Eastern</td>\n",
       "      <td>No</td>\n",
       "      <td>No</td>\n",
       "      <td>No</td>\n",
       "      <td>Yes</td>\n",
       "      <td>No</td>\n",
       "      <td>No</td>\n",
       "      <td>Low</td>\n",
       "      <td>Malignant</td>\n",
       "    </tr>\n",
       "  </tbody>\n",
       "</table>\n",
       "<p>212691 rows × 11 columns</p>\n",
       "</div>"
      ],
      "text/plain": [
       "        Gender  Country       Ethnicity Family_History Radiation_Exposure  \\\n",
       "0         Male   Russia       Caucasian             No                Yes   \n",
       "1         Male  Germany        Hispanic             No                Yes   \n",
       "2         Male  Nigeria       Caucasian             No                 No   \n",
       "3       Female    India           Asian             No                 No   \n",
       "4       Female  Germany         African            Yes                Yes   \n",
       "...        ...      ...             ...            ...                ...   \n",
       "212686  Female    India           Asian             No                 No   \n",
       "212687    Male    Japan  Middle Eastern             No                 No   \n",
       "212688  Female  Nigeria        Hispanic             No                 No   \n",
       "212689  Female   Brazil  Middle Eastern             No                 No   \n",
       "212690  Female    Japan  Middle Eastern             No                 No   \n",
       "\n",
       "       Iodine_Deficiency Smoking Obesity Diabetes Thyroid_Cancer_Risk  \\\n",
       "0                     No      No      No       No                 Low   \n",
       "1                     No      No      No       No                 Low   \n",
       "2                     No      No      No       No                 Low   \n",
       "3                     No      No      No       No              Medium   \n",
       "4                     No      No      No       No                High   \n",
       "...                  ...     ...     ...      ...                 ...   \n",
       "212686                No      No     Yes       No                 Low   \n",
       "212687                No      No     Yes       No              Medium   \n",
       "212688                No      No      No      Yes              Medium   \n",
       "212689                No      No      No      Yes              Medium   \n",
       "212690                No     Yes      No       No                 Low   \n",
       "\n",
       "        Diagnosis  \n",
       "0          Benign  \n",
       "1          Benign  \n",
       "2          Benign  \n",
       "3          Benign  \n",
       "4          Benign  \n",
       "...           ...  \n",
       "212686     Benign  \n",
       "212687     Benign  \n",
       "212688     Benign  \n",
       "212689     Benign  \n",
       "212690  Malignant  \n",
       "\n",
       "[212691 rows x 11 columns]"
      ]
     },
     "execution_count": 45,
     "metadata": {},
     "output_type": "execute_result"
    }
   ],
   "source": [
    "df_cat"
   ]
  },
  {
   "cell_type": "code",
   "execution_count": 46,
   "id": "fa674568-65e7-4baf-a264-e047ffb6b206",
   "metadata": {},
   "outputs": [
    {
     "data": {
      "text/html": [
       "<div>\n",
       "<style scoped>\n",
       "    .dataframe tbody tr th:only-of-type {\n",
       "        vertical-align: middle;\n",
       "    }\n",
       "\n",
       "    .dataframe tbody tr th {\n",
       "        vertical-align: top;\n",
       "    }\n",
       "\n",
       "    .dataframe thead th {\n",
       "        text-align: right;\n",
       "    }\n",
       "</style>\n",
       "<table border=\"1\" class=\"dataframe\">\n",
       "  <thead>\n",
       "    <tr style=\"text-align: right;\">\n",
       "      <th></th>\n",
       "      <th>Age</th>\n",
       "      <th>TSH_Level</th>\n",
       "      <th>T3_Level</th>\n",
       "      <th>T4_Level</th>\n",
       "      <th>Nodule_Size</th>\n",
       "    </tr>\n",
       "  </thead>\n",
       "  <tbody>\n",
       "    <tr>\n",
       "      <th>0</th>\n",
       "      <td>66</td>\n",
       "      <td>9.37</td>\n",
       "      <td>1.67</td>\n",
       "      <td>6.16</td>\n",
       "      <td>1.08</td>\n",
       "    </tr>\n",
       "  </tbody>\n",
       "</table>\n",
       "</div>"
      ],
      "text/plain": [
       "   Age  TSH_Level  T3_Level  T4_Level  Nodule_Size\n",
       "0   66       9.37      1.67      6.16         1.08"
      ]
     },
     "execution_count": 46,
     "metadata": {},
     "output_type": "execute_result"
    }
   ],
   "source": [
    "df_num.head(1)"
   ]
  },
  {
   "cell_type": "markdown",
   "id": "adb4d9b0-367d-4e7c-8ff5-39ad227c4df8",
   "metadata": {},
   "source": [
    "Apply Label Encoding"
   ]
  },
  {
   "cell_type": "code",
   "execution_count": 47,
   "id": "8aa5cd42-1c55-47d4-ab53-06906f53f687",
   "metadata": {},
   "outputs": [],
   "source": [
    "# Importing Label Encoder\n",
    "from sklearn.preprocessing import LabelEncoder"
   ]
  },
  {
   "cell_type": "code",
   "execution_count": 48,
   "id": "9ac8c31e-868a-4ff0-b2ba-d052257c23be",
   "metadata": {},
   "outputs": [],
   "source": [
    "# Applying encoding to all catagorical columns at once using loop\n",
    "for i in df_cat:\n",
    "    le=LabelEncoder()\n",
    "    df_cat[i]=le.fit_transform(df_cat[i])"
   ]
  },
  {
   "cell_type": "code",
   "execution_count": 49,
   "id": "7d84b830-276e-401e-9ff4-de2e622aff8f",
   "metadata": {},
   "outputs": [
    {
     "data": {
      "text/html": [
       "<div>\n",
       "<style scoped>\n",
       "    .dataframe tbody tr th:only-of-type {\n",
       "        vertical-align: middle;\n",
       "    }\n",
       "\n",
       "    .dataframe tbody tr th {\n",
       "        vertical-align: top;\n",
       "    }\n",
       "\n",
       "    .dataframe thead th {\n",
       "        text-align: right;\n",
       "    }\n",
       "</style>\n",
       "<table border=\"1\" class=\"dataframe\">\n",
       "  <thead>\n",
       "    <tr style=\"text-align: right;\">\n",
       "      <th></th>\n",
       "      <th>Gender</th>\n",
       "      <th>Country</th>\n",
       "      <th>Ethnicity</th>\n",
       "      <th>Family_History</th>\n",
       "      <th>Radiation_Exposure</th>\n",
       "      <th>Iodine_Deficiency</th>\n",
       "      <th>Smoking</th>\n",
       "      <th>Obesity</th>\n",
       "      <th>Diabetes</th>\n",
       "      <th>Thyroid_Cancer_Risk</th>\n",
       "      <th>Diagnosis</th>\n",
       "    </tr>\n",
       "  </thead>\n",
       "  <tbody>\n",
       "    <tr>\n",
       "      <th>0</th>\n",
       "      <td>1</td>\n",
       "      <td>6</td>\n",
       "      <td>2</td>\n",
       "      <td>0</td>\n",
       "      <td>1</td>\n",
       "      <td>0</td>\n",
       "      <td>0</td>\n",
       "      <td>0</td>\n",
       "      <td>0</td>\n",
       "      <td>1</td>\n",
       "      <td>0</td>\n",
       "    </tr>\n",
       "    <tr>\n",
       "      <th>1</th>\n",
       "      <td>1</td>\n",
       "      <td>2</td>\n",
       "      <td>3</td>\n",
       "      <td>0</td>\n",
       "      <td>1</td>\n",
       "      <td>0</td>\n",
       "      <td>0</td>\n",
       "      <td>0</td>\n",
       "      <td>0</td>\n",
       "      <td>1</td>\n",
       "      <td>0</td>\n",
       "    </tr>\n",
       "    <tr>\n",
       "      <th>2</th>\n",
       "      <td>1</td>\n",
       "      <td>5</td>\n",
       "      <td>2</td>\n",
       "      <td>0</td>\n",
       "      <td>0</td>\n",
       "      <td>0</td>\n",
       "      <td>0</td>\n",
       "      <td>0</td>\n",
       "      <td>0</td>\n",
       "      <td>1</td>\n",
       "      <td>0</td>\n",
       "    </tr>\n",
       "    <tr>\n",
       "      <th>3</th>\n",
       "      <td>0</td>\n",
       "      <td>3</td>\n",
       "      <td>1</td>\n",
       "      <td>0</td>\n",
       "      <td>0</td>\n",
       "      <td>0</td>\n",
       "      <td>0</td>\n",
       "      <td>0</td>\n",
       "      <td>0</td>\n",
       "      <td>2</td>\n",
       "      <td>0</td>\n",
       "    </tr>\n",
       "    <tr>\n",
       "      <th>4</th>\n",
       "      <td>0</td>\n",
       "      <td>2</td>\n",
       "      <td>0</td>\n",
       "      <td>1</td>\n",
       "      <td>1</td>\n",
       "      <td>0</td>\n",
       "      <td>0</td>\n",
       "      <td>0</td>\n",
       "      <td>0</td>\n",
       "      <td>0</td>\n",
       "      <td>0</td>\n",
       "    </tr>\n",
       "    <tr>\n",
       "      <th>...</th>\n",
       "      <td>...</td>\n",
       "      <td>...</td>\n",
       "      <td>...</td>\n",
       "      <td>...</td>\n",
       "      <td>...</td>\n",
       "      <td>...</td>\n",
       "      <td>...</td>\n",
       "      <td>...</td>\n",
       "      <td>...</td>\n",
       "      <td>...</td>\n",
       "      <td>...</td>\n",
       "    </tr>\n",
       "    <tr>\n",
       "      <th>212686</th>\n",
       "      <td>0</td>\n",
       "      <td>3</td>\n",
       "      <td>1</td>\n",
       "      <td>0</td>\n",
       "      <td>0</td>\n",
       "      <td>0</td>\n",
       "      <td>0</td>\n",
       "      <td>1</td>\n",
       "      <td>0</td>\n",
       "      <td>1</td>\n",
       "      <td>0</td>\n",
       "    </tr>\n",
       "    <tr>\n",
       "      <th>212687</th>\n",
       "      <td>1</td>\n",
       "      <td>4</td>\n",
       "      <td>4</td>\n",
       "      <td>0</td>\n",
       "      <td>0</td>\n",
       "      <td>0</td>\n",
       "      <td>0</td>\n",
       "      <td>1</td>\n",
       "      <td>0</td>\n",
       "      <td>2</td>\n",
       "      <td>0</td>\n",
       "    </tr>\n",
       "    <tr>\n",
       "      <th>212688</th>\n",
       "      <td>0</td>\n",
       "      <td>5</td>\n",
       "      <td>3</td>\n",
       "      <td>0</td>\n",
       "      <td>0</td>\n",
       "      <td>0</td>\n",
       "      <td>0</td>\n",
       "      <td>0</td>\n",
       "      <td>1</td>\n",
       "      <td>2</td>\n",
       "      <td>0</td>\n",
       "    </tr>\n",
       "    <tr>\n",
       "      <th>212689</th>\n",
       "      <td>0</td>\n",
       "      <td>0</td>\n",
       "      <td>4</td>\n",
       "      <td>0</td>\n",
       "      <td>0</td>\n",
       "      <td>0</td>\n",
       "      <td>0</td>\n",
       "      <td>0</td>\n",
       "      <td>1</td>\n",
       "      <td>2</td>\n",
       "      <td>0</td>\n",
       "    </tr>\n",
       "    <tr>\n",
       "      <th>212690</th>\n",
       "      <td>0</td>\n",
       "      <td>4</td>\n",
       "      <td>4</td>\n",
       "      <td>0</td>\n",
       "      <td>0</td>\n",
       "      <td>0</td>\n",
       "      <td>1</td>\n",
       "      <td>0</td>\n",
       "      <td>0</td>\n",
       "      <td>1</td>\n",
       "      <td>1</td>\n",
       "    </tr>\n",
       "  </tbody>\n",
       "</table>\n",
       "<p>212691 rows × 11 columns</p>\n",
       "</div>"
      ],
      "text/plain": [
       "        Gender  Country  Ethnicity  Family_History  Radiation_Exposure  \\\n",
       "0            1        6          2               0                   1   \n",
       "1            1        2          3               0                   1   \n",
       "2            1        5          2               0                   0   \n",
       "3            0        3          1               0                   0   \n",
       "4            0        2          0               1                   1   \n",
       "...        ...      ...        ...             ...                 ...   \n",
       "212686       0        3          1               0                   0   \n",
       "212687       1        4          4               0                   0   \n",
       "212688       0        5          3               0                   0   \n",
       "212689       0        0          4               0                   0   \n",
       "212690       0        4          4               0                   0   \n",
       "\n",
       "        Iodine_Deficiency  Smoking  Obesity  Diabetes  Thyroid_Cancer_Risk  \\\n",
       "0                       0        0        0         0                    1   \n",
       "1                       0        0        0         0                    1   \n",
       "2                       0        0        0         0                    1   \n",
       "3                       0        0        0         0                    2   \n",
       "4                       0        0        0         0                    0   \n",
       "...                   ...      ...      ...       ...                  ...   \n",
       "212686                  0        0        1         0                    1   \n",
       "212687                  0        0        1         0                    2   \n",
       "212688                  0        0        0         1                    2   \n",
       "212689                  0        0        0         1                    2   \n",
       "212690                  0        1        0         0                    1   \n",
       "\n",
       "        Diagnosis  \n",
       "0               0  \n",
       "1               0  \n",
       "2               0  \n",
       "3               0  \n",
       "4               0  \n",
       "...           ...  \n",
       "212686          0  \n",
       "212687          0  \n",
       "212688          0  \n",
       "212689          0  \n",
       "212690          1  \n",
       "\n",
       "[212691 rows x 11 columns]"
      ]
     },
     "execution_count": 49,
     "metadata": {},
     "output_type": "execute_result"
    }
   ],
   "source": [
    "df_cat"
   ]
  },
  {
   "cell_type": "code",
   "execution_count": 50,
   "id": "be2fff8b-09b1-49bb-be3d-e6017d83464d",
   "metadata": {},
   "outputs": [],
   "source": [
    "# Concat numeric and catagorical columns together\n",
    "df=pd.concat([df_num,df_cat],axis=1)"
   ]
  },
  {
   "cell_type": "code",
   "execution_count": 51,
   "id": "0c921f59-87dd-4b3b-a326-413a6a48a0cf",
   "metadata": {},
   "outputs": [
    {
     "data": {
      "text/html": [
       "<div>\n",
       "<style scoped>\n",
       "    .dataframe tbody tr th:only-of-type {\n",
       "        vertical-align: middle;\n",
       "    }\n",
       "\n",
       "    .dataframe tbody tr th {\n",
       "        vertical-align: top;\n",
       "    }\n",
       "\n",
       "    .dataframe thead th {\n",
       "        text-align: right;\n",
       "    }\n",
       "</style>\n",
       "<table border=\"1\" class=\"dataframe\">\n",
       "  <thead>\n",
       "    <tr style=\"text-align: right;\">\n",
       "      <th></th>\n",
       "      <th>Age</th>\n",
       "      <th>TSH_Level</th>\n",
       "      <th>T3_Level</th>\n",
       "      <th>T4_Level</th>\n",
       "      <th>Nodule_Size</th>\n",
       "      <th>Gender</th>\n",
       "      <th>Country</th>\n",
       "      <th>Ethnicity</th>\n",
       "      <th>Family_History</th>\n",
       "      <th>Radiation_Exposure</th>\n",
       "      <th>Iodine_Deficiency</th>\n",
       "      <th>Smoking</th>\n",
       "      <th>Obesity</th>\n",
       "      <th>Diabetes</th>\n",
       "      <th>Thyroid_Cancer_Risk</th>\n",
       "      <th>Diagnosis</th>\n",
       "    </tr>\n",
       "  </thead>\n",
       "  <tbody>\n",
       "    <tr>\n",
       "      <th>0</th>\n",
       "      <td>66</td>\n",
       "      <td>9.37</td>\n",
       "      <td>1.67</td>\n",
       "      <td>6.16</td>\n",
       "      <td>1.08</td>\n",
       "      <td>1</td>\n",
       "      <td>6</td>\n",
       "      <td>2</td>\n",
       "      <td>0</td>\n",
       "      <td>1</td>\n",
       "      <td>0</td>\n",
       "      <td>0</td>\n",
       "      <td>0</td>\n",
       "      <td>0</td>\n",
       "      <td>1</td>\n",
       "      <td>0</td>\n",
       "    </tr>\n",
       "    <tr>\n",
       "      <th>1</th>\n",
       "      <td>29</td>\n",
       "      <td>1.83</td>\n",
       "      <td>1.73</td>\n",
       "      <td>10.54</td>\n",
       "      <td>4.05</td>\n",
       "      <td>1</td>\n",
       "      <td>2</td>\n",
       "      <td>3</td>\n",
       "      <td>0</td>\n",
       "      <td>1</td>\n",
       "      <td>0</td>\n",
       "      <td>0</td>\n",
       "      <td>0</td>\n",
       "      <td>0</td>\n",
       "      <td>1</td>\n",
       "      <td>0</td>\n",
       "    </tr>\n",
       "    <tr>\n",
       "      <th>2</th>\n",
       "      <td>86</td>\n",
       "      <td>6.26</td>\n",
       "      <td>2.59</td>\n",
       "      <td>10.57</td>\n",
       "      <td>4.61</td>\n",
       "      <td>1</td>\n",
       "      <td>5</td>\n",
       "      <td>2</td>\n",
       "      <td>0</td>\n",
       "      <td>0</td>\n",
       "      <td>0</td>\n",
       "      <td>0</td>\n",
       "      <td>0</td>\n",
       "      <td>0</td>\n",
       "      <td>1</td>\n",
       "      <td>0</td>\n",
       "    </tr>\n",
       "    <tr>\n",
       "      <th>3</th>\n",
       "      <td>75</td>\n",
       "      <td>4.10</td>\n",
       "      <td>2.62</td>\n",
       "      <td>11.04</td>\n",
       "      <td>2.46</td>\n",
       "      <td>0</td>\n",
       "      <td>3</td>\n",
       "      <td>1</td>\n",
       "      <td>0</td>\n",
       "      <td>0</td>\n",
       "      <td>0</td>\n",
       "      <td>0</td>\n",
       "      <td>0</td>\n",
       "      <td>0</td>\n",
       "      <td>2</td>\n",
       "      <td>0</td>\n",
       "    </tr>\n",
       "    <tr>\n",
       "      <th>4</th>\n",
       "      <td>35</td>\n",
       "      <td>9.10</td>\n",
       "      <td>2.11</td>\n",
       "      <td>10.71</td>\n",
       "      <td>2.11</td>\n",
       "      <td>0</td>\n",
       "      <td>2</td>\n",
       "      <td>0</td>\n",
       "      <td>1</td>\n",
       "      <td>1</td>\n",
       "      <td>0</td>\n",
       "      <td>0</td>\n",
       "      <td>0</td>\n",
       "      <td>0</td>\n",
       "      <td>0</td>\n",
       "      <td>0</td>\n",
       "    </tr>\n",
       "  </tbody>\n",
       "</table>\n",
       "</div>"
      ],
      "text/plain": [
       "   Age  TSH_Level  T3_Level  T4_Level  Nodule_Size  Gender  Country  \\\n",
       "0   66       9.37      1.67      6.16         1.08       1        6   \n",
       "1   29       1.83      1.73     10.54         4.05       1        2   \n",
       "2   86       6.26      2.59     10.57         4.61       1        5   \n",
       "3   75       4.10      2.62     11.04         2.46       0        3   \n",
       "4   35       9.10      2.11     10.71         2.11       0        2   \n",
       "\n",
       "   Ethnicity  Family_History  Radiation_Exposure  Iodine_Deficiency  Smoking  \\\n",
       "0          2               0                   1                  0        0   \n",
       "1          3               0                   1                  0        0   \n",
       "2          2               0                   0                  0        0   \n",
       "3          1               0                   0                  0        0   \n",
       "4          0               1                   1                  0        0   \n",
       "\n",
       "   Obesity  Diabetes  Thyroid_Cancer_Risk  Diagnosis  \n",
       "0        0         0                    1          0  \n",
       "1        0         0                    1          0  \n",
       "2        0         0                    1          0  \n",
       "3        0         0                    2          0  \n",
       "4        0         0                    0          0  "
      ]
     },
     "execution_count": 51,
     "metadata": {},
     "output_type": "execute_result"
    }
   ],
   "source": [
    "df.head()"
   ]
  },
  {
   "cell_type": "code",
   "execution_count": 52,
   "id": "f6c53b3e-6a5c-47dd-ab46-f5b63a2b8926",
   "metadata": {},
   "outputs": [
    {
     "name": "stdout",
     "output_type": "stream",
     "text": [
      "<class 'pandas.core.frame.DataFrame'>\n",
      "RangeIndex: 212691 entries, 0 to 212690\n",
      "Data columns (total 16 columns):\n",
      " #   Column               Non-Null Count   Dtype  \n",
      "---  ------               --------------   -----  \n",
      " 0   Age                  212691 non-null  int32  \n",
      " 1   TSH_Level            212691 non-null  float64\n",
      " 2   T3_Level             212691 non-null  float64\n",
      " 3   T4_Level             212691 non-null  float64\n",
      " 4   Nodule_Size          212691 non-null  float64\n",
      " 5   Gender               212691 non-null  int32  \n",
      " 6   Country              212691 non-null  int32  \n",
      " 7   Ethnicity            212691 non-null  int32  \n",
      " 8   Family_History       212691 non-null  int32  \n",
      " 9   Radiation_Exposure   212691 non-null  int32  \n",
      " 10  Iodine_Deficiency    212691 non-null  int32  \n",
      " 11  Smoking              212691 non-null  int32  \n",
      " 12  Obesity              212691 non-null  int32  \n",
      " 13  Diabetes             212691 non-null  int32  \n",
      " 14  Thyroid_Cancer_Risk  212691 non-null  int32  \n",
      " 15  Diagnosis            212691 non-null  int32  \n",
      "dtypes: float64(4), int32(12)\n",
      "memory usage: 16.2 MB\n"
     ]
    }
   ],
   "source": [
    "df.info()"
   ]
  },
  {
   "cell_type": "code",
   "execution_count": 53,
   "id": "6f19696a-cb86-4eb7-918d-ebd09b7bbd68",
   "metadata": {},
   "outputs": [],
   "source": [
    "# Drop unnessasory columns (Country,Ethnicity)\n",
    "df.drop(columns=\"Country\",axis=1,inplace=True)\n",
    "df.drop(columns=\"Ethnicity\",axis=1,inplace=True)"
   ]
  },
  {
   "cell_type": "markdown",
   "id": "5f7cae55-90d6-44ad-a957-b3cf624d284f",
   "metadata": {},
   "source": [
    "Why i drop Country , Ethnicity columns ?"
   ]
  },
  {
   "cell_type": "raw",
   "id": "e4c7ef0e-57c5-4873-84e6-a4ee21e72a11",
   "metadata": {},
   "source": [
    "Country : Geographical variation might not be a strong predictor.\n",
    "\n",
    "Ethnicity : Do not directly influence diagnosis."
   ]
  },
  {
   "cell_type": "code",
   "execution_count": 54,
   "id": "64ffd27e-bf96-44e3-ab7c-15f3b2d23d10",
   "metadata": {},
   "outputs": [
    {
     "data": {
      "text/html": [
       "<div>\n",
       "<style scoped>\n",
       "    .dataframe tbody tr th:only-of-type {\n",
       "        vertical-align: middle;\n",
       "    }\n",
       "\n",
       "    .dataframe tbody tr th {\n",
       "        vertical-align: top;\n",
       "    }\n",
       "\n",
       "    .dataframe thead th {\n",
       "        text-align: right;\n",
       "    }\n",
       "</style>\n",
       "<table border=\"1\" class=\"dataframe\">\n",
       "  <thead>\n",
       "    <tr style=\"text-align: right;\">\n",
       "      <th></th>\n",
       "      <th>Age</th>\n",
       "      <th>TSH_Level</th>\n",
       "      <th>T3_Level</th>\n",
       "      <th>T4_Level</th>\n",
       "      <th>Nodule_Size</th>\n",
       "      <th>Gender</th>\n",
       "      <th>Family_History</th>\n",
       "      <th>Radiation_Exposure</th>\n",
       "      <th>Iodine_Deficiency</th>\n",
       "      <th>Smoking</th>\n",
       "      <th>Obesity</th>\n",
       "      <th>Diabetes</th>\n",
       "      <th>Thyroid_Cancer_Risk</th>\n",
       "      <th>Diagnosis</th>\n",
       "    </tr>\n",
       "  </thead>\n",
       "  <tbody>\n",
       "    <tr>\n",
       "      <th>0</th>\n",
       "      <td>66</td>\n",
       "      <td>9.37</td>\n",
       "      <td>1.67</td>\n",
       "      <td>6.16</td>\n",
       "      <td>1.08</td>\n",
       "      <td>1</td>\n",
       "      <td>0</td>\n",
       "      <td>1</td>\n",
       "      <td>0</td>\n",
       "      <td>0</td>\n",
       "      <td>0</td>\n",
       "      <td>0</td>\n",
       "      <td>1</td>\n",
       "      <td>0</td>\n",
       "    </tr>\n",
       "  </tbody>\n",
       "</table>\n",
       "</div>"
      ],
      "text/plain": [
       "   Age  TSH_Level  T3_Level  T4_Level  Nodule_Size  Gender  Family_History  \\\n",
       "0   66       9.37      1.67      6.16         1.08       1               0   \n",
       "\n",
       "   Radiation_Exposure  Iodine_Deficiency  Smoking  Obesity  Diabetes  \\\n",
       "0                   1                  0        0        0         0   \n",
       "\n",
       "   Thyroid_Cancer_Risk  Diagnosis  \n",
       "0                    1          0  "
      ]
     },
     "execution_count": 54,
     "metadata": {},
     "output_type": "execute_result"
    }
   ],
   "source": [
    "df.head(1)"
   ]
  },
  {
   "cell_type": "markdown",
   "id": "cd57c4e5-f08f-4c68-92c9-f08632764760",
   "metadata": {},
   "source": [
    "                                                      Developing the Predictive Model"
   ]
  },
  {
   "cell_type": "raw",
   "id": "f5297764-aa8d-4a64-a109-f1a6d3438ab7",
   "metadata": {},
   "source": [
    "Target Column : Diagnosis (0/1)"
   ]
  },
  {
   "cell_type": "code",
   "execution_count": 55,
   "id": "5bebb5c3-3571-4f76-b1c6-da21aba8f3ef",
   "metadata": {},
   "outputs": [],
   "source": [
    "# Spliting the data into feature and target columns\n",
    "x=df.iloc[:,:-1]\n",
    "y=df[\"Diagnosis\"]"
   ]
  },
  {
   "cell_type": "code",
   "execution_count": 56,
   "id": "1c37db9e-1818-4ea9-a725-97432e2884cd",
   "metadata": {},
   "outputs": [
    {
     "data": {
      "text/plain": [
       "Diagnosis\n",
       "0    163196\n",
       "1     49495\n",
       "Name: count, dtype: int64"
      ]
     },
     "execution_count": 56,
     "metadata": {},
     "output_type": "execute_result"
    }
   ],
   "source": [
    "y.value_counts()                #Data is Imbalance"
   ]
  },
  {
   "cell_type": "code",
   "execution_count": 57,
   "id": "72f259e3-5207-447b-95f3-188c29117941",
   "metadata": {},
   "outputs": [
    {
     "data": {
      "text/html": [
       "<div>\n",
       "<style scoped>\n",
       "    .dataframe tbody tr th:only-of-type {\n",
       "        vertical-align: middle;\n",
       "    }\n",
       "\n",
       "    .dataframe tbody tr th {\n",
       "        vertical-align: top;\n",
       "    }\n",
       "\n",
       "    .dataframe thead th {\n",
       "        text-align: right;\n",
       "    }\n",
       "</style>\n",
       "<table border=\"1\" class=\"dataframe\">\n",
       "  <thead>\n",
       "    <tr style=\"text-align: right;\">\n",
       "      <th></th>\n",
       "      <th>Age</th>\n",
       "      <th>TSH_Level</th>\n",
       "      <th>T3_Level</th>\n",
       "      <th>T4_Level</th>\n",
       "      <th>Nodule_Size</th>\n",
       "      <th>Gender</th>\n",
       "      <th>Family_History</th>\n",
       "      <th>Radiation_Exposure</th>\n",
       "      <th>Iodine_Deficiency</th>\n",
       "      <th>Smoking</th>\n",
       "      <th>Obesity</th>\n",
       "      <th>Diabetes</th>\n",
       "      <th>Thyroid_Cancer_Risk</th>\n",
       "    </tr>\n",
       "  </thead>\n",
       "  <tbody>\n",
       "    <tr>\n",
       "      <th>0</th>\n",
       "      <td>66</td>\n",
       "      <td>9.37</td>\n",
       "      <td>1.67</td>\n",
       "      <td>6.16</td>\n",
       "      <td>1.08</td>\n",
       "      <td>1</td>\n",
       "      <td>0</td>\n",
       "      <td>1</td>\n",
       "      <td>0</td>\n",
       "      <td>0</td>\n",
       "      <td>0</td>\n",
       "      <td>0</td>\n",
       "      <td>1</td>\n",
       "    </tr>\n",
       "    <tr>\n",
       "      <th>1</th>\n",
       "      <td>29</td>\n",
       "      <td>1.83</td>\n",
       "      <td>1.73</td>\n",
       "      <td>10.54</td>\n",
       "      <td>4.05</td>\n",
       "      <td>1</td>\n",
       "      <td>0</td>\n",
       "      <td>1</td>\n",
       "      <td>0</td>\n",
       "      <td>0</td>\n",
       "      <td>0</td>\n",
       "      <td>0</td>\n",
       "      <td>1</td>\n",
       "    </tr>\n",
       "    <tr>\n",
       "      <th>2</th>\n",
       "      <td>86</td>\n",
       "      <td>6.26</td>\n",
       "      <td>2.59</td>\n",
       "      <td>10.57</td>\n",
       "      <td>4.61</td>\n",
       "      <td>1</td>\n",
       "      <td>0</td>\n",
       "      <td>0</td>\n",
       "      <td>0</td>\n",
       "      <td>0</td>\n",
       "      <td>0</td>\n",
       "      <td>0</td>\n",
       "      <td>1</td>\n",
       "    </tr>\n",
       "    <tr>\n",
       "      <th>3</th>\n",
       "      <td>75</td>\n",
       "      <td>4.10</td>\n",
       "      <td>2.62</td>\n",
       "      <td>11.04</td>\n",
       "      <td>2.46</td>\n",
       "      <td>0</td>\n",
       "      <td>0</td>\n",
       "      <td>0</td>\n",
       "      <td>0</td>\n",
       "      <td>0</td>\n",
       "      <td>0</td>\n",
       "      <td>0</td>\n",
       "      <td>2</td>\n",
       "    </tr>\n",
       "    <tr>\n",
       "      <th>4</th>\n",
       "      <td>35</td>\n",
       "      <td>9.10</td>\n",
       "      <td>2.11</td>\n",
       "      <td>10.71</td>\n",
       "      <td>2.11</td>\n",
       "      <td>0</td>\n",
       "      <td>1</td>\n",
       "      <td>1</td>\n",
       "      <td>0</td>\n",
       "      <td>0</td>\n",
       "      <td>0</td>\n",
       "      <td>0</td>\n",
       "      <td>0</td>\n",
       "    </tr>\n",
       "  </tbody>\n",
       "</table>\n",
       "</div>"
      ],
      "text/plain": [
       "   Age  TSH_Level  T3_Level  T4_Level  Nodule_Size  Gender  Family_History  \\\n",
       "0   66       9.37      1.67      6.16         1.08       1               0   \n",
       "1   29       1.83      1.73     10.54         4.05       1               0   \n",
       "2   86       6.26      2.59     10.57         4.61       1               0   \n",
       "3   75       4.10      2.62     11.04         2.46       0               0   \n",
       "4   35       9.10      2.11     10.71         2.11       0               1   \n",
       "\n",
       "   Radiation_Exposure  Iodine_Deficiency  Smoking  Obesity  Diabetes  \\\n",
       "0                   1                  0        0        0         0   \n",
       "1                   1                  0        0        0         0   \n",
       "2                   0                  0        0        0         0   \n",
       "3                   0                  0        0        0         0   \n",
       "4                   1                  0        0        0         0   \n",
       "\n",
       "   Thyroid_Cancer_Risk  \n",
       "0                    1  \n",
       "1                    1  \n",
       "2                    1  \n",
       "3                    2  \n",
       "4                    0  "
      ]
     },
     "execution_count": 57,
     "metadata": {},
     "output_type": "execute_result"
    }
   ],
   "source": [
    "x.head()"
   ]
  },
  {
   "cell_type": "code",
   "execution_count": 58,
   "id": "93ed80fd-34e4-427a-a1f4-e094a95250d0",
   "metadata": {},
   "outputs": [
    {
     "data": {
      "text/plain": [
       "0    0\n",
       "1    0\n",
       "2    0\n",
       "3    0\n",
       "4    0\n",
       "Name: Diagnosis, dtype: int32"
      ]
     },
     "execution_count": 58,
     "metadata": {},
     "output_type": "execute_result"
    }
   ],
   "source": [
    "y.head()"
   ]
  },
  {
   "cell_type": "code",
   "execution_count": 59,
   "id": "8fbaba72-2d83-47d8-a0be-2deb154f9cde",
   "metadata": {},
   "outputs": [],
   "source": [
    "#Spliting training & testing Data into 20,80\n",
    "from sklearn.model_selection import train_test_split\n",
    "xtrain,xtest,ytrain,ytest=train_test_split(x,y,test_size=0.20,random_state=45)"
   ]
  },
  {
   "cell_type": "code",
   "execution_count": 60,
   "id": "5276a2a3-55b8-4c9f-92b2-aa93069b0fdf",
   "metadata": {},
   "outputs": [
    {
     "data": {
      "text/html": [
       "<div>\n",
       "<style scoped>\n",
       "    .dataframe tbody tr th:only-of-type {\n",
       "        vertical-align: middle;\n",
       "    }\n",
       "\n",
       "    .dataframe tbody tr th {\n",
       "        vertical-align: top;\n",
       "    }\n",
       "\n",
       "    .dataframe thead th {\n",
       "        text-align: right;\n",
       "    }\n",
       "</style>\n",
       "<table border=\"1\" class=\"dataframe\">\n",
       "  <thead>\n",
       "    <tr style=\"text-align: right;\">\n",
       "      <th></th>\n",
       "      <th>Age</th>\n",
       "      <th>TSH_Level</th>\n",
       "      <th>T3_Level</th>\n",
       "      <th>T4_Level</th>\n",
       "      <th>Nodule_Size</th>\n",
       "      <th>Gender</th>\n",
       "      <th>Family_History</th>\n",
       "      <th>Radiation_Exposure</th>\n",
       "      <th>Iodine_Deficiency</th>\n",
       "      <th>Smoking</th>\n",
       "      <th>Obesity</th>\n",
       "      <th>Diabetes</th>\n",
       "      <th>Thyroid_Cancer_Risk</th>\n",
       "    </tr>\n",
       "  </thead>\n",
       "  <tbody>\n",
       "    <tr>\n",
       "      <th>186037</th>\n",
       "      <td>22</td>\n",
       "      <td>1.40</td>\n",
       "      <td>2.59</td>\n",
       "      <td>5.69</td>\n",
       "      <td>0.39</td>\n",
       "      <td>1</td>\n",
       "      <td>0</td>\n",
       "      <td>0</td>\n",
       "      <td>0</td>\n",
       "      <td>1</td>\n",
       "      <td>0</td>\n",
       "      <td>0</td>\n",
       "      <td>1</td>\n",
       "    </tr>\n",
       "    <tr>\n",
       "      <th>36334</th>\n",
       "      <td>75</td>\n",
       "      <td>5.78</td>\n",
       "      <td>2.16</td>\n",
       "      <td>11.43</td>\n",
       "      <td>3.86</td>\n",
       "      <td>1</td>\n",
       "      <td>0</td>\n",
       "      <td>0</td>\n",
       "      <td>0</td>\n",
       "      <td>0</td>\n",
       "      <td>0</td>\n",
       "      <td>0</td>\n",
       "      <td>2</td>\n",
       "    </tr>\n",
       "    <tr>\n",
       "      <th>102054</th>\n",
       "      <td>24</td>\n",
       "      <td>6.24</td>\n",
       "      <td>1.37</td>\n",
       "      <td>6.55</td>\n",
       "      <td>4.60</td>\n",
       "      <td>0</td>\n",
       "      <td>1</td>\n",
       "      <td>0</td>\n",
       "      <td>1</td>\n",
       "      <td>0</td>\n",
       "      <td>0</td>\n",
       "      <td>0</td>\n",
       "      <td>0</td>\n",
       "    </tr>\n",
       "    <tr>\n",
       "      <th>83032</th>\n",
       "      <td>58</td>\n",
       "      <td>8.54</td>\n",
       "      <td>2.46</td>\n",
       "      <td>6.13</td>\n",
       "      <td>3.54</td>\n",
       "      <td>0</td>\n",
       "      <td>1</td>\n",
       "      <td>0</td>\n",
       "      <td>0</td>\n",
       "      <td>0</td>\n",
       "      <td>0</td>\n",
       "      <td>1</td>\n",
       "      <td>2</td>\n",
       "    </tr>\n",
       "    <tr>\n",
       "      <th>181382</th>\n",
       "      <td>62</td>\n",
       "      <td>4.62</td>\n",
       "      <td>1.54</td>\n",
       "      <td>11.69</td>\n",
       "      <td>3.04</td>\n",
       "      <td>0</td>\n",
       "      <td>0</td>\n",
       "      <td>0</td>\n",
       "      <td>0</td>\n",
       "      <td>1</td>\n",
       "      <td>0</td>\n",
       "      <td>0</td>\n",
       "      <td>2</td>\n",
       "    </tr>\n",
       "    <tr>\n",
       "      <th>...</th>\n",
       "      <td>...</td>\n",
       "      <td>...</td>\n",
       "      <td>...</td>\n",
       "      <td>...</td>\n",
       "      <td>...</td>\n",
       "      <td>...</td>\n",
       "      <td>...</td>\n",
       "      <td>...</td>\n",
       "      <td>...</td>\n",
       "      <td>...</td>\n",
       "      <td>...</td>\n",
       "      <td>...</td>\n",
       "      <td>...</td>\n",
       "    </tr>\n",
       "    <tr>\n",
       "      <th>143967</th>\n",
       "      <td>81</td>\n",
       "      <td>3.65</td>\n",
       "      <td>1.36</td>\n",
       "      <td>4.50</td>\n",
       "      <td>4.92</td>\n",
       "      <td>0</td>\n",
       "      <td>0</td>\n",
       "      <td>0</td>\n",
       "      <td>0</td>\n",
       "      <td>0</td>\n",
       "      <td>1</td>\n",
       "      <td>0</td>\n",
       "      <td>1</td>\n",
       "    </tr>\n",
       "    <tr>\n",
       "      <th>60960</th>\n",
       "      <td>17</td>\n",
       "      <td>5.42</td>\n",
       "      <td>1.07</td>\n",
       "      <td>4.55</td>\n",
       "      <td>4.32</td>\n",
       "      <td>0</td>\n",
       "      <td>0</td>\n",
       "      <td>0</td>\n",
       "      <td>0</td>\n",
       "      <td>1</td>\n",
       "      <td>1</td>\n",
       "      <td>1</td>\n",
       "      <td>1</td>\n",
       "    </tr>\n",
       "    <tr>\n",
       "      <th>137084</th>\n",
       "      <td>16</td>\n",
       "      <td>9.10</td>\n",
       "      <td>1.87</td>\n",
       "      <td>6.79</td>\n",
       "      <td>2.21</td>\n",
       "      <td>0</td>\n",
       "      <td>0</td>\n",
       "      <td>0</td>\n",
       "      <td>0</td>\n",
       "      <td>1</td>\n",
       "      <td>0</td>\n",
       "      <td>1</td>\n",
       "      <td>2</td>\n",
       "    </tr>\n",
       "    <tr>\n",
       "      <th>194179</th>\n",
       "      <td>76</td>\n",
       "      <td>0.34</td>\n",
       "      <td>2.07</td>\n",
       "      <td>7.85</td>\n",
       "      <td>0.12</td>\n",
       "      <td>1</td>\n",
       "      <td>0</td>\n",
       "      <td>0</td>\n",
       "      <td>0</td>\n",
       "      <td>0</td>\n",
       "      <td>0</td>\n",
       "      <td>0</td>\n",
       "      <td>2</td>\n",
       "    </tr>\n",
       "    <tr>\n",
       "      <th>137630</th>\n",
       "      <td>38</td>\n",
       "      <td>2.44</td>\n",
       "      <td>3.25</td>\n",
       "      <td>5.18</td>\n",
       "      <td>2.67</td>\n",
       "      <td>1</td>\n",
       "      <td>0</td>\n",
       "      <td>0</td>\n",
       "      <td>0</td>\n",
       "      <td>0</td>\n",
       "      <td>1</td>\n",
       "      <td>1</td>\n",
       "      <td>2</td>\n",
       "    </tr>\n",
       "  </tbody>\n",
       "</table>\n",
       "<p>170152 rows × 13 columns</p>\n",
       "</div>"
      ],
      "text/plain": [
       "        Age  TSH_Level  T3_Level  T4_Level  Nodule_Size  Gender  \\\n",
       "186037   22       1.40      2.59      5.69         0.39       1   \n",
       "36334    75       5.78      2.16     11.43         3.86       1   \n",
       "102054   24       6.24      1.37      6.55         4.60       0   \n",
       "83032    58       8.54      2.46      6.13         3.54       0   \n",
       "181382   62       4.62      1.54     11.69         3.04       0   \n",
       "...     ...        ...       ...       ...          ...     ...   \n",
       "143967   81       3.65      1.36      4.50         4.92       0   \n",
       "60960    17       5.42      1.07      4.55         4.32       0   \n",
       "137084   16       9.10      1.87      6.79         2.21       0   \n",
       "194179   76       0.34      2.07      7.85         0.12       1   \n",
       "137630   38       2.44      3.25      5.18         2.67       1   \n",
       "\n",
       "        Family_History  Radiation_Exposure  Iodine_Deficiency  Smoking  \\\n",
       "186037               0                   0                  0        1   \n",
       "36334                0                   0                  0        0   \n",
       "102054               1                   0                  1        0   \n",
       "83032                1                   0                  0        0   \n",
       "181382               0                   0                  0        1   \n",
       "...                ...                 ...                ...      ...   \n",
       "143967               0                   0                  0        0   \n",
       "60960                0                   0                  0        1   \n",
       "137084               0                   0                  0        1   \n",
       "194179               0                   0                  0        0   \n",
       "137630               0                   0                  0        0   \n",
       "\n",
       "        Obesity  Diabetes  Thyroid_Cancer_Risk  \n",
       "186037        0         0                    1  \n",
       "36334         0         0                    2  \n",
       "102054        0         0                    0  \n",
       "83032         0         1                    2  \n",
       "181382        0         0                    2  \n",
       "...         ...       ...                  ...  \n",
       "143967        1         0                    1  \n",
       "60960         1         1                    1  \n",
       "137084        0         1                    2  \n",
       "194179        0         0                    2  \n",
       "137630        1         1                    2  \n",
       "\n",
       "[170152 rows x 13 columns]"
      ]
     },
     "execution_count": 60,
     "metadata": {},
     "output_type": "execute_result"
    }
   ],
   "source": [
    "xtrain"
   ]
  },
  {
   "cell_type": "code",
   "execution_count": 61,
   "id": "b804504b-9ebf-40d2-80f8-8c903c545607",
   "metadata": {},
   "outputs": [
    {
     "data": {
      "text/html": [
       "<div>\n",
       "<style scoped>\n",
       "    .dataframe tbody tr th:only-of-type {\n",
       "        vertical-align: middle;\n",
       "    }\n",
       "\n",
       "    .dataframe tbody tr th {\n",
       "        vertical-align: top;\n",
       "    }\n",
       "\n",
       "    .dataframe thead th {\n",
       "        text-align: right;\n",
       "    }\n",
       "</style>\n",
       "<table border=\"1\" class=\"dataframe\">\n",
       "  <thead>\n",
       "    <tr style=\"text-align: right;\">\n",
       "      <th></th>\n",
       "      <th>Age</th>\n",
       "      <th>TSH_Level</th>\n",
       "      <th>T3_Level</th>\n",
       "      <th>T4_Level</th>\n",
       "      <th>Nodule_Size</th>\n",
       "      <th>Gender</th>\n",
       "      <th>Family_History</th>\n",
       "      <th>Radiation_Exposure</th>\n",
       "      <th>Iodine_Deficiency</th>\n",
       "      <th>Smoking</th>\n",
       "      <th>Obesity</th>\n",
       "      <th>Diabetes</th>\n",
       "      <th>Thyroid_Cancer_Risk</th>\n",
       "    </tr>\n",
       "  </thead>\n",
       "  <tbody>\n",
       "    <tr>\n",
       "      <th>201164</th>\n",
       "      <td>77</td>\n",
       "      <td>5.08</td>\n",
       "      <td>1.47</td>\n",
       "      <td>4.79</td>\n",
       "      <td>1.08</td>\n",
       "      <td>1</td>\n",
       "      <td>1</td>\n",
       "      <td>0</td>\n",
       "      <td>1</td>\n",
       "      <td>0</td>\n",
       "      <td>0</td>\n",
       "      <td>0</td>\n",
       "      <td>2</td>\n",
       "    </tr>\n",
       "    <tr>\n",
       "      <th>65868</th>\n",
       "      <td>79</td>\n",
       "      <td>2.31</td>\n",
       "      <td>2.16</td>\n",
       "      <td>11.06</td>\n",
       "      <td>3.15</td>\n",
       "      <td>0</td>\n",
       "      <td>0</td>\n",
       "      <td>0</td>\n",
       "      <td>1</td>\n",
       "      <td>0</td>\n",
       "      <td>0</td>\n",
       "      <td>0</td>\n",
       "      <td>2</td>\n",
       "    </tr>\n",
       "    <tr>\n",
       "      <th>65638</th>\n",
       "      <td>49</td>\n",
       "      <td>7.26</td>\n",
       "      <td>2.62</td>\n",
       "      <td>10.10</td>\n",
       "      <td>0.70</td>\n",
       "      <td>0</td>\n",
       "      <td>0</td>\n",
       "      <td>0</td>\n",
       "      <td>0</td>\n",
       "      <td>1</td>\n",
       "      <td>1</td>\n",
       "      <td>0</td>\n",
       "      <td>1</td>\n",
       "    </tr>\n",
       "    <tr>\n",
       "      <th>131668</th>\n",
       "      <td>89</td>\n",
       "      <td>7.08</td>\n",
       "      <td>2.81</td>\n",
       "      <td>9.79</td>\n",
       "      <td>4.76</td>\n",
       "      <td>0</td>\n",
       "      <td>0</td>\n",
       "      <td>0</td>\n",
       "      <td>1</td>\n",
       "      <td>1</td>\n",
       "      <td>0</td>\n",
       "      <td>0</td>\n",
       "      <td>1</td>\n",
       "    </tr>\n",
       "    <tr>\n",
       "      <th>152847</th>\n",
       "      <td>47</td>\n",
       "      <td>1.50</td>\n",
       "      <td>0.92</td>\n",
       "      <td>7.73</td>\n",
       "      <td>4.08</td>\n",
       "      <td>1</td>\n",
       "      <td>1</td>\n",
       "      <td>0</td>\n",
       "      <td>1</td>\n",
       "      <td>0</td>\n",
       "      <td>1</td>\n",
       "      <td>1</td>\n",
       "      <td>0</td>\n",
       "    </tr>\n",
       "    <tr>\n",
       "      <th>...</th>\n",
       "      <td>...</td>\n",
       "      <td>...</td>\n",
       "      <td>...</td>\n",
       "      <td>...</td>\n",
       "      <td>...</td>\n",
       "      <td>...</td>\n",
       "      <td>...</td>\n",
       "      <td>...</td>\n",
       "      <td>...</td>\n",
       "      <td>...</td>\n",
       "      <td>...</td>\n",
       "      <td>...</td>\n",
       "      <td>...</td>\n",
       "    </tr>\n",
       "    <tr>\n",
       "      <th>153183</th>\n",
       "      <td>33</td>\n",
       "      <td>6.21</td>\n",
       "      <td>3.39</td>\n",
       "      <td>6.64</td>\n",
       "      <td>2.48</td>\n",
       "      <td>0</td>\n",
       "      <td>0</td>\n",
       "      <td>0</td>\n",
       "      <td>0</td>\n",
       "      <td>0</td>\n",
       "      <td>0</td>\n",
       "      <td>0</td>\n",
       "      <td>1</td>\n",
       "    </tr>\n",
       "    <tr>\n",
       "      <th>26065</th>\n",
       "      <td>51</td>\n",
       "      <td>2.45</td>\n",
       "      <td>0.52</td>\n",
       "      <td>6.59</td>\n",
       "      <td>4.86</td>\n",
       "      <td>0</td>\n",
       "      <td>0</td>\n",
       "      <td>0</td>\n",
       "      <td>1</td>\n",
       "      <td>0</td>\n",
       "      <td>0</td>\n",
       "      <td>0</td>\n",
       "      <td>2</td>\n",
       "    </tr>\n",
       "    <tr>\n",
       "      <th>42778</th>\n",
       "      <td>81</td>\n",
       "      <td>7.81</td>\n",
       "      <td>1.43</td>\n",
       "      <td>6.78</td>\n",
       "      <td>0.19</td>\n",
       "      <td>0</td>\n",
       "      <td>0</td>\n",
       "      <td>0</td>\n",
       "      <td>0</td>\n",
       "      <td>0</td>\n",
       "      <td>1</td>\n",
       "      <td>1</td>\n",
       "      <td>1</td>\n",
       "    </tr>\n",
       "    <tr>\n",
       "      <th>175445</th>\n",
       "      <td>88</td>\n",
       "      <td>5.18</td>\n",
       "      <td>0.96</td>\n",
       "      <td>9.87</td>\n",
       "      <td>4.79</td>\n",
       "      <td>1</td>\n",
       "      <td>1</td>\n",
       "      <td>0</td>\n",
       "      <td>0</td>\n",
       "      <td>1</td>\n",
       "      <td>0</td>\n",
       "      <td>1</td>\n",
       "      <td>0</td>\n",
       "    </tr>\n",
       "    <tr>\n",
       "      <th>147055</th>\n",
       "      <td>85</td>\n",
       "      <td>1.44</td>\n",
       "      <td>2.56</td>\n",
       "      <td>7.93</td>\n",
       "      <td>3.27</td>\n",
       "      <td>0</td>\n",
       "      <td>0</td>\n",
       "      <td>0</td>\n",
       "      <td>0</td>\n",
       "      <td>0</td>\n",
       "      <td>0</td>\n",
       "      <td>0</td>\n",
       "      <td>2</td>\n",
       "    </tr>\n",
       "  </tbody>\n",
       "</table>\n",
       "<p>42539 rows × 13 columns</p>\n",
       "</div>"
      ],
      "text/plain": [
       "        Age  TSH_Level  T3_Level  T4_Level  Nodule_Size  Gender  \\\n",
       "201164   77       5.08      1.47      4.79         1.08       1   \n",
       "65868    79       2.31      2.16     11.06         3.15       0   \n",
       "65638    49       7.26      2.62     10.10         0.70       0   \n",
       "131668   89       7.08      2.81      9.79         4.76       0   \n",
       "152847   47       1.50      0.92      7.73         4.08       1   \n",
       "...     ...        ...       ...       ...          ...     ...   \n",
       "153183   33       6.21      3.39      6.64         2.48       0   \n",
       "26065    51       2.45      0.52      6.59         4.86       0   \n",
       "42778    81       7.81      1.43      6.78         0.19       0   \n",
       "175445   88       5.18      0.96      9.87         4.79       1   \n",
       "147055   85       1.44      2.56      7.93         3.27       0   \n",
       "\n",
       "        Family_History  Radiation_Exposure  Iodine_Deficiency  Smoking  \\\n",
       "201164               1                   0                  1        0   \n",
       "65868                0                   0                  1        0   \n",
       "65638                0                   0                  0        1   \n",
       "131668               0                   0                  1        1   \n",
       "152847               1                   0                  1        0   \n",
       "...                ...                 ...                ...      ...   \n",
       "153183               0                   0                  0        0   \n",
       "26065                0                   0                  1        0   \n",
       "42778                0                   0                  0        0   \n",
       "175445               1                   0                  0        1   \n",
       "147055               0                   0                  0        0   \n",
       "\n",
       "        Obesity  Diabetes  Thyroid_Cancer_Risk  \n",
       "201164        0         0                    2  \n",
       "65868         0         0                    2  \n",
       "65638         1         0                    1  \n",
       "131668        0         0                    1  \n",
       "152847        1         1                    0  \n",
       "...         ...       ...                  ...  \n",
       "153183        0         0                    1  \n",
       "26065         0         0                    2  \n",
       "42778         1         1                    1  \n",
       "175445        0         1                    0  \n",
       "147055        0         0                    2  \n",
       "\n",
       "[42539 rows x 13 columns]"
      ]
     },
     "execution_count": 61,
     "metadata": {},
     "output_type": "execute_result"
    }
   ],
   "source": [
    "xtest"
   ]
  },
  {
   "cell_type": "code",
   "execution_count": 62,
   "id": "04b70ff7-1a5e-4990-8237-ff32e5e1e5d8",
   "metadata": {},
   "outputs": [
    {
     "data": {
      "text/plain": [
       "186037    0\n",
       "36334     0\n",
       "102054    1\n",
       "83032     0\n",
       "181382    0\n",
       "         ..\n",
       "143967    0\n",
       "60960     0\n",
       "137084    0\n",
       "194179    1\n",
       "137630    0\n",
       "Name: Diagnosis, Length: 170152, dtype: int32"
      ]
     },
     "execution_count": 62,
     "metadata": {},
     "output_type": "execute_result"
    }
   ],
   "source": [
    "ytrain"
   ]
  },
  {
   "cell_type": "code",
   "execution_count": 63,
   "id": "9cfcd70e-2875-4d0c-938c-839eeb28b7c8",
   "metadata": {},
   "outputs": [
    {
     "data": {
      "text/plain": [
       "201164    0\n",
       "65868     0\n",
       "65638     0\n",
       "131668    1\n",
       "152847    1\n",
       "         ..\n",
       "153183    0\n",
       "26065     0\n",
       "42778     0\n",
       "175445    1\n",
       "147055    0\n",
       "Name: Diagnosis, Length: 42539, dtype: int32"
      ]
     },
     "execution_count": 63,
     "metadata": {},
     "output_type": "execute_result"
    }
   ],
   "source": [
    "ytest"
   ]
  },
  {
   "cell_type": "markdown",
   "id": "6a8ff121-6c0b-4c19-98d3-c6ce9cdfcfb4",
   "metadata": {},
   "source": [
    "Feature Scaling"
   ]
  },
  {
   "cell_type": "raw",
   "id": "a97b413d-4772-43ba-a5ae-4e6434aeed25",
   "metadata": {},
   "source": [
    "Apply feature scaling for better model performance and accuracy"
   ]
  },
  {
   "cell_type": "code",
   "execution_count": 64,
   "id": "fa33ae61-8bd5-4d6f-84f2-5ebeabdcc159",
   "metadata": {},
   "outputs": [],
   "source": [
    "from sklearn.preprocessing import StandardScaler\n",
    "scaler=StandardScaler()\n",
    "\n",
    "columns_to_scale = ['Age', 'TSH_Level', 'T3_Level', 'T4_Level', 'Nodule_Size']\n",
    "\n",
    "X_train_scaled = xtrain.copy()\n",
    "X_test_scaled = xtest.copy()\n",
    "\n",
    "X_train_scaled[columns_to_scale] = scaler.fit_transform(xtrain[columns_to_scale])\n",
    "X_test_scaled[columns_to_scale] = scaler.transform(xtest[columns_to_scale])"
   ]
  },
  {
   "cell_type": "code",
   "execution_count": 65,
   "id": "ce7bf5a2-406b-4b29-a4aa-862c292b78cb",
   "metadata": {},
   "outputs": [
    {
     "data": {
      "text/html": [
       "<div>\n",
       "<style scoped>\n",
       "    .dataframe tbody tr th:only-of-type {\n",
       "        vertical-align: middle;\n",
       "    }\n",
       "\n",
       "    .dataframe tbody tr th {\n",
       "        vertical-align: top;\n",
       "    }\n",
       "\n",
       "    .dataframe thead th {\n",
       "        text-align: right;\n",
       "    }\n",
       "</style>\n",
       "<table border=\"1\" class=\"dataframe\">\n",
       "  <thead>\n",
       "    <tr style=\"text-align: right;\">\n",
       "      <th></th>\n",
       "      <th>Age</th>\n",
       "      <th>TSH_Level</th>\n",
       "      <th>T3_Level</th>\n",
       "      <th>T4_Level</th>\n",
       "      <th>Nodule_Size</th>\n",
       "      <th>Gender</th>\n",
       "      <th>Family_History</th>\n",
       "      <th>Radiation_Exposure</th>\n",
       "      <th>Iodine_Deficiency</th>\n",
       "      <th>Smoking</th>\n",
       "      <th>Obesity</th>\n",
       "      <th>Diabetes</th>\n",
       "      <th>Thyroid_Cancer_Risk</th>\n",
       "    </tr>\n",
       "  </thead>\n",
       "  <tbody>\n",
       "    <tr>\n",
       "      <th>186037</th>\n",
       "      <td>-1.382219</td>\n",
       "      <td>-1.273519</td>\n",
       "      <td>0.677952</td>\n",
       "      <td>-1.179338</td>\n",
       "      <td>-1.463118</td>\n",
       "      <td>1</td>\n",
       "      <td>0</td>\n",
       "      <td>0</td>\n",
       "      <td>0</td>\n",
       "      <td>1</td>\n",
       "      <td>0</td>\n",
       "      <td>0</td>\n",
       "      <td>1</td>\n",
       "    </tr>\n",
       "    <tr>\n",
       "      <th>36334</th>\n",
       "      <td>1.065906</td>\n",
       "      <td>0.257923</td>\n",
       "      <td>0.181312</td>\n",
       "      <td>1.470354</td>\n",
       "      <td>0.938856</td>\n",
       "      <td>1</td>\n",
       "      <td>0</td>\n",
       "      <td>0</td>\n",
       "      <td>0</td>\n",
       "      <td>0</td>\n",
       "      <td>0</td>\n",
       "      <td>0</td>\n",
       "      <td>2</td>\n",
       "    </tr>\n",
       "    <tr>\n",
       "      <th>102054</th>\n",
       "      <td>-1.289837</td>\n",
       "      <td>0.418760</td>\n",
       "      <td>-0.731120</td>\n",
       "      <td>-0.782346</td>\n",
       "      <td>1.451093</td>\n",
       "      <td>0</td>\n",
       "      <td>1</td>\n",
       "      <td>0</td>\n",
       "      <td>1</td>\n",
       "      <td>0</td>\n",
       "      <td>0</td>\n",
       "      <td>0</td>\n",
       "      <td>0</td>\n",
       "    </tr>\n",
       "    <tr>\n",
       "      <th>83032</th>\n",
       "      <td>0.280658</td>\n",
       "      <td>1.222941</td>\n",
       "      <td>0.527805</td>\n",
       "      <td>-0.976226</td>\n",
       "      <td>0.717348</td>\n",
       "      <td>0</td>\n",
       "      <td>1</td>\n",
       "      <td>0</td>\n",
       "      <td>0</td>\n",
       "      <td>0</td>\n",
       "      <td>0</td>\n",
       "      <td>1</td>\n",
       "      <td>2</td>\n",
       "    </tr>\n",
       "    <tr>\n",
       "      <th>181382</th>\n",
       "      <td>0.465423</td>\n",
       "      <td>-0.147664</td>\n",
       "      <td>-0.534774</td>\n",
       "      <td>1.590375</td>\n",
       "      <td>0.371243</td>\n",
       "      <td>0</td>\n",
       "      <td>0</td>\n",
       "      <td>0</td>\n",
       "      <td>0</td>\n",
       "      <td>1</td>\n",
       "      <td>0</td>\n",
       "      <td>0</td>\n",
       "      <td>2</td>\n",
       "    </tr>\n",
       "    <tr>\n",
       "      <th>...</th>\n",
       "      <td>...</td>\n",
       "      <td>...</td>\n",
       "      <td>...</td>\n",
       "      <td>...</td>\n",
       "      <td>...</td>\n",
       "      <td>...</td>\n",
       "      <td>...</td>\n",
       "      <td>...</td>\n",
       "      <td>...</td>\n",
       "      <td>...</td>\n",
       "      <td>...</td>\n",
       "      <td>...</td>\n",
       "      <td>...</td>\n",
       "    </tr>\n",
       "    <tr>\n",
       "      <th>143967</th>\n",
       "      <td>1.343052</td>\n",
       "      <td>-0.486819</td>\n",
       "      <td>-0.742670</td>\n",
       "      <td>-1.728665</td>\n",
       "      <td>1.672600</td>\n",
       "      <td>0</td>\n",
       "      <td>0</td>\n",
       "      <td>0</td>\n",
       "      <td>0</td>\n",
       "      <td>0</td>\n",
       "      <td>1</td>\n",
       "      <td>0</td>\n",
       "      <td>1</td>\n",
       "    </tr>\n",
       "    <tr>\n",
       "      <th>60960</th>\n",
       "      <td>-1.613174</td>\n",
       "      <td>0.132051</td>\n",
       "      <td>-1.077614</td>\n",
       "      <td>-1.705584</td>\n",
       "      <td>1.257273</td>\n",
       "      <td>0</td>\n",
       "      <td>0</td>\n",
       "      <td>0</td>\n",
       "      <td>0</td>\n",
       "      <td>1</td>\n",
       "      <td>1</td>\n",
       "      <td>1</td>\n",
       "      <td>1</td>\n",
       "    </tr>\n",
       "    <tr>\n",
       "      <th>137084</th>\n",
       "      <td>-1.659365</td>\n",
       "      <td>1.418742</td>\n",
       "      <td>-0.153632</td>\n",
       "      <td>-0.671558</td>\n",
       "      <td>-0.203293</td>\n",
       "      <td>0</td>\n",
       "      <td>0</td>\n",
       "      <td>0</td>\n",
       "      <td>0</td>\n",
       "      <td>1</td>\n",
       "      <td>0</td>\n",
       "      <td>1</td>\n",
       "      <td>2</td>\n",
       "    </tr>\n",
       "    <tr>\n",
       "      <th>194179</th>\n",
       "      <td>1.112097</td>\n",
       "      <td>-1.644141</td>\n",
       "      <td>0.077364</td>\n",
       "      <td>-0.182242</td>\n",
       "      <td>-1.650015</td>\n",
       "      <td>1</td>\n",
       "      <td>0</td>\n",
       "      <td>0</td>\n",
       "      <td>0</td>\n",
       "      <td>0</td>\n",
       "      <td>0</td>\n",
       "      <td>0</td>\n",
       "      <td>2</td>\n",
       "    </tr>\n",
       "    <tr>\n",
       "      <th>137630</th>\n",
       "      <td>-0.643162</td>\n",
       "      <td>-0.909889</td>\n",
       "      <td>1.440237</td>\n",
       "      <td>-1.414764</td>\n",
       "      <td>0.115124</td>\n",
       "      <td>1</td>\n",
       "      <td>0</td>\n",
       "      <td>0</td>\n",
       "      <td>0</td>\n",
       "      <td>0</td>\n",
       "      <td>1</td>\n",
       "      <td>1</td>\n",
       "      <td>2</td>\n",
       "    </tr>\n",
       "  </tbody>\n",
       "</table>\n",
       "<p>170152 rows × 13 columns</p>\n",
       "</div>"
      ],
      "text/plain": [
       "             Age  TSH_Level  T3_Level  T4_Level  Nodule_Size  Gender  \\\n",
       "186037 -1.382219  -1.273519  0.677952 -1.179338    -1.463118       1   \n",
       "36334   1.065906   0.257923  0.181312  1.470354     0.938856       1   \n",
       "102054 -1.289837   0.418760 -0.731120 -0.782346     1.451093       0   \n",
       "83032   0.280658   1.222941  0.527805 -0.976226     0.717348       0   \n",
       "181382  0.465423  -0.147664 -0.534774  1.590375     0.371243       0   \n",
       "...          ...        ...       ...       ...          ...     ...   \n",
       "143967  1.343052  -0.486819 -0.742670 -1.728665     1.672600       0   \n",
       "60960  -1.613174   0.132051 -1.077614 -1.705584     1.257273       0   \n",
       "137084 -1.659365   1.418742 -0.153632 -0.671558    -0.203293       0   \n",
       "194179  1.112097  -1.644141  0.077364 -0.182242    -1.650015       1   \n",
       "137630 -0.643162  -0.909889  1.440237 -1.414764     0.115124       1   \n",
       "\n",
       "        Family_History  Radiation_Exposure  Iodine_Deficiency  Smoking  \\\n",
       "186037               0                   0                  0        1   \n",
       "36334                0                   0                  0        0   \n",
       "102054               1                   0                  1        0   \n",
       "83032                1                   0                  0        0   \n",
       "181382               0                   0                  0        1   \n",
       "...                ...                 ...                ...      ...   \n",
       "143967               0                   0                  0        0   \n",
       "60960                0                   0                  0        1   \n",
       "137084               0                   0                  0        1   \n",
       "194179               0                   0                  0        0   \n",
       "137630               0                   0                  0        0   \n",
       "\n",
       "        Obesity  Diabetes  Thyroid_Cancer_Risk  \n",
       "186037        0         0                    1  \n",
       "36334         0         0                    2  \n",
       "102054        0         0                    0  \n",
       "83032         0         1                    2  \n",
       "181382        0         0                    2  \n",
       "...         ...       ...                  ...  \n",
       "143967        1         0                    1  \n",
       "60960         1         1                    1  \n",
       "137084        0         1                    2  \n",
       "194179        0         0                    2  \n",
       "137630        1         1                    2  \n",
       "\n",
       "[170152 rows x 13 columns]"
      ]
     },
     "execution_count": 65,
     "metadata": {},
     "output_type": "execute_result"
    }
   ],
   "source": [
    "X_train_scaled"
   ]
  },
  {
   "cell_type": "code",
   "execution_count": 66,
   "id": "4b6fcd5b-7576-43ff-8b2b-98e5feddb4df",
   "metadata": {},
   "outputs": [
    {
     "data": {
      "text/html": [
       "<div>\n",
       "<style scoped>\n",
       "    .dataframe tbody tr th:only-of-type {\n",
       "        vertical-align: middle;\n",
       "    }\n",
       "\n",
       "    .dataframe tbody tr th {\n",
       "        vertical-align: top;\n",
       "    }\n",
       "\n",
       "    .dataframe thead th {\n",
       "        text-align: right;\n",
       "    }\n",
       "</style>\n",
       "<table border=\"1\" class=\"dataframe\">\n",
       "  <thead>\n",
       "    <tr style=\"text-align: right;\">\n",
       "      <th></th>\n",
       "      <th>Age</th>\n",
       "      <th>TSH_Level</th>\n",
       "      <th>T3_Level</th>\n",
       "      <th>T4_Level</th>\n",
       "      <th>Nodule_Size</th>\n",
       "      <th>Gender</th>\n",
       "      <th>Family_History</th>\n",
       "      <th>Radiation_Exposure</th>\n",
       "      <th>Iodine_Deficiency</th>\n",
       "      <th>Smoking</th>\n",
       "      <th>Obesity</th>\n",
       "      <th>Diabetes</th>\n",
       "      <th>Thyroid_Cancer_Risk</th>\n",
       "    </tr>\n",
       "  </thead>\n",
       "  <tbody>\n",
       "    <tr>\n",
       "      <th>201164</th>\n",
       "      <td>1.158288</td>\n",
       "      <td>0.013172</td>\n",
       "      <td>-0.615623</td>\n",
       "      <td>-1.594795</td>\n",
       "      <td>-0.985492</td>\n",
       "      <td>1</td>\n",
       "      <td>1</td>\n",
       "      <td>0</td>\n",
       "      <td>1</td>\n",
       "      <td>0</td>\n",
       "      <td>0</td>\n",
       "      <td>0</td>\n",
       "      <td>2</td>\n",
       "    </tr>\n",
       "    <tr>\n",
       "      <th>65868</th>\n",
       "      <td>1.250670</td>\n",
       "      <td>-0.955342</td>\n",
       "      <td>0.181312</td>\n",
       "      <td>1.299555</td>\n",
       "      <td>0.447386</td>\n",
       "      <td>0</td>\n",
       "      <td>0</td>\n",
       "      <td>0</td>\n",
       "      <td>1</td>\n",
       "      <td>0</td>\n",
       "      <td>0</td>\n",
       "      <td>0</td>\n",
       "      <td>2</td>\n",
       "    </tr>\n",
       "    <tr>\n",
       "      <th>65638</th>\n",
       "      <td>-0.135061</td>\n",
       "      <td>0.775397</td>\n",
       "      <td>0.712601</td>\n",
       "      <td>0.856401</td>\n",
       "      <td>-1.248532</td>\n",
       "      <td>0</td>\n",
       "      <td>0</td>\n",
       "      <td>0</td>\n",
       "      <td>0</td>\n",
       "      <td>1</td>\n",
       "      <td>1</td>\n",
       "      <td>0</td>\n",
       "      <td>1</td>\n",
       "    </tr>\n",
       "    <tr>\n",
       "      <th>131668</th>\n",
       "      <td>1.712580</td>\n",
       "      <td>0.712461</td>\n",
       "      <td>0.932047</td>\n",
       "      <td>0.713299</td>\n",
       "      <td>1.561846</td>\n",
       "      <td>0</td>\n",
       "      <td>0</td>\n",
       "      <td>0</td>\n",
       "      <td>1</td>\n",
       "      <td>1</td>\n",
       "      <td>0</td>\n",
       "      <td>0</td>\n",
       "      <td>1</td>\n",
       "    </tr>\n",
       "    <tr>\n",
       "      <th>152847</th>\n",
       "      <td>-0.227443</td>\n",
       "      <td>-1.238554</td>\n",
       "      <td>-1.250860</td>\n",
       "      <td>-0.237636</td>\n",
       "      <td>1.091143</td>\n",
       "      <td>1</td>\n",
       "      <td>1</td>\n",
       "      <td>0</td>\n",
       "      <td>1</td>\n",
       "      <td>0</td>\n",
       "      <td>1</td>\n",
       "      <td>1</td>\n",
       "      <td>0</td>\n",
       "    </tr>\n",
       "    <tr>\n",
       "      <th>...</th>\n",
       "      <td>...</td>\n",
       "      <td>...</td>\n",
       "      <td>...</td>\n",
       "      <td>...</td>\n",
       "      <td>...</td>\n",
       "      <td>...</td>\n",
       "      <td>...</td>\n",
       "      <td>...</td>\n",
       "      <td>...</td>\n",
       "      <td>...</td>\n",
       "      <td>...</td>\n",
       "      <td>...</td>\n",
       "      <td>...</td>\n",
       "    </tr>\n",
       "    <tr>\n",
       "      <th>153183</th>\n",
       "      <td>-0.874117</td>\n",
       "      <td>0.408270</td>\n",
       "      <td>1.601934</td>\n",
       "      <td>-0.740801</td>\n",
       "      <td>-0.016396</td>\n",
       "      <td>0</td>\n",
       "      <td>0</td>\n",
       "      <td>0</td>\n",
       "      <td>0</td>\n",
       "      <td>0</td>\n",
       "      <td>0</td>\n",
       "      <td>0</td>\n",
       "      <td>1</td>\n",
       "    </tr>\n",
       "    <tr>\n",
       "      <th>26065</th>\n",
       "      <td>-0.042679</td>\n",
       "      <td>-0.906392</td>\n",
       "      <td>-1.712851</td>\n",
       "      <td>-0.763882</td>\n",
       "      <td>1.631068</td>\n",
       "      <td>0</td>\n",
       "      <td>0</td>\n",
       "      <td>0</td>\n",
       "      <td>1</td>\n",
       "      <td>0</td>\n",
       "      <td>0</td>\n",
       "      <td>0</td>\n",
       "      <td>2</td>\n",
       "    </tr>\n",
       "    <tr>\n",
       "      <th>42778</th>\n",
       "      <td>1.343052</td>\n",
       "      <td>0.967701</td>\n",
       "      <td>-0.661822</td>\n",
       "      <td>-0.676174</td>\n",
       "      <td>-1.601560</td>\n",
       "      <td>0</td>\n",
       "      <td>0</td>\n",
       "      <td>0</td>\n",
       "      <td>0</td>\n",
       "      <td>0</td>\n",
       "      <td>1</td>\n",
       "      <td>1</td>\n",
       "      <td>1</td>\n",
       "    </tr>\n",
       "    <tr>\n",
       "      <th>175445</th>\n",
       "      <td>1.666389</td>\n",
       "      <td>0.048137</td>\n",
       "      <td>-1.204661</td>\n",
       "      <td>0.750228</td>\n",
       "      <td>1.582613</td>\n",
       "      <td>1</td>\n",
       "      <td>1</td>\n",
       "      <td>0</td>\n",
       "      <td>0</td>\n",
       "      <td>1</td>\n",
       "      <td>0</td>\n",
       "      <td>1</td>\n",
       "      <td>0</td>\n",
       "    </tr>\n",
       "    <tr>\n",
       "      <th>147055</th>\n",
       "      <td>1.527816</td>\n",
       "      <td>-1.259533</td>\n",
       "      <td>0.643302</td>\n",
       "      <td>-0.145312</td>\n",
       "      <td>0.530451</td>\n",
       "      <td>0</td>\n",
       "      <td>0</td>\n",
       "      <td>0</td>\n",
       "      <td>0</td>\n",
       "      <td>0</td>\n",
       "      <td>0</td>\n",
       "      <td>0</td>\n",
       "      <td>2</td>\n",
       "    </tr>\n",
       "  </tbody>\n",
       "</table>\n",
       "<p>42539 rows × 13 columns</p>\n",
       "</div>"
      ],
      "text/plain": [
       "             Age  TSH_Level  T3_Level  T4_Level  Nodule_Size  Gender  \\\n",
       "201164  1.158288   0.013172 -0.615623 -1.594795    -0.985492       1   \n",
       "65868   1.250670  -0.955342  0.181312  1.299555     0.447386       0   \n",
       "65638  -0.135061   0.775397  0.712601  0.856401    -1.248532       0   \n",
       "131668  1.712580   0.712461  0.932047  0.713299     1.561846       0   \n",
       "152847 -0.227443  -1.238554 -1.250860 -0.237636     1.091143       1   \n",
       "...          ...        ...       ...       ...          ...     ...   \n",
       "153183 -0.874117   0.408270  1.601934 -0.740801    -0.016396       0   \n",
       "26065  -0.042679  -0.906392 -1.712851 -0.763882     1.631068       0   \n",
       "42778   1.343052   0.967701 -0.661822 -0.676174    -1.601560       0   \n",
       "175445  1.666389   0.048137 -1.204661  0.750228     1.582613       1   \n",
       "147055  1.527816  -1.259533  0.643302 -0.145312     0.530451       0   \n",
       "\n",
       "        Family_History  Radiation_Exposure  Iodine_Deficiency  Smoking  \\\n",
       "201164               1                   0                  1        0   \n",
       "65868                0                   0                  1        0   \n",
       "65638                0                   0                  0        1   \n",
       "131668               0                   0                  1        1   \n",
       "152847               1                   0                  1        0   \n",
       "...                ...                 ...                ...      ...   \n",
       "153183               0                   0                  0        0   \n",
       "26065                0                   0                  1        0   \n",
       "42778                0                   0                  0        0   \n",
       "175445               1                   0                  0        1   \n",
       "147055               0                   0                  0        0   \n",
       "\n",
       "        Obesity  Diabetes  Thyroid_Cancer_Risk  \n",
       "201164        0         0                    2  \n",
       "65868         0         0                    2  \n",
       "65638         1         0                    1  \n",
       "131668        0         0                    1  \n",
       "152847        1         1                    0  \n",
       "...         ...       ...                  ...  \n",
       "153183        0         0                    1  \n",
       "26065         0         0                    2  \n",
       "42778         1         1                    1  \n",
       "175445        0         1                    0  \n",
       "147055        0         0                    2  \n",
       "\n",
       "[42539 rows x 13 columns]"
      ]
     },
     "execution_count": 66,
     "metadata": {},
     "output_type": "execute_result"
    }
   ],
   "source": [
    "X_test_scaled"
   ]
  },
  {
   "cell_type": "markdown",
   "id": "806ff0f5-580f-4a86-acbf-5bd284087189",
   "metadata": {},
   "source": [
    "Applying Logistic Regression"
   ]
  },
  {
   "cell_type": "markdown",
   "id": "2e0a8c53-f1e7-4b5e-b136-762e08fb0d39",
   "metadata": {},
   "source": [
    "Why I Selected Logistic Regression for Thyroid Cancer Prediction?"
   ]
  },
  {
   "cell_type": "raw",
   "id": "52bd1cba-507d-4b3f-b72b-8b5dc06f173b",
   "metadata": {},
   "source": [
    "Logistic Regression is ideal for this project because the target is a binary categorical variable (Malignent or Bening). It is a simple, efficient, and interpretable model that estimates the probability of class membership, making it well-suited for medical diagnosis tasks like thyroid cancer prediction."
   ]
  },
  {
   "cell_type": "code",
   "execution_count": 67,
   "id": "1a84cde8-e5f1-42d2-b56f-e6a69c3a4392",
   "metadata": {},
   "outputs": [],
   "source": [
    "#model building using logistic regression\n",
    "\n",
    "from sklearn.linear_model import LogisticRegression\n",
    "lr=LogisticRegression()\n",
    "lr.fit(X_train_scaled, ytrain)\n",
    "ypred=lr.predict(X_test_scaled)"
   ]
  },
  {
   "cell_type": "code",
   "execution_count": 68,
   "id": "d9587044-e28c-4092-adab-4ee96273b14d",
   "metadata": {},
   "outputs": [
    {
     "data": {
      "text/plain": [
       "array([0, 0, 0, ..., 0, 1, 0])"
      ]
     },
     "execution_count": 68,
     "metadata": {},
     "output_type": "execute_result"
    }
   ],
   "source": [
    "ypred"
   ]
  },
  {
   "cell_type": "code",
   "execution_count": 69,
   "id": "5dd5e31e-cf9d-400d-99cb-411dade17f0c",
   "metadata": {},
   "outputs": [],
   "source": [
    "# Checking accuracy of model \n",
    "\n",
    "from sklearn.metrics import accuracy_score, confusion_matrix, classification_report"
   ]
  },
  {
   "cell_type": "code",
   "execution_count": 70,
   "id": "31ee27bc-3c0a-41d4-b221-ff34526b9145",
   "metadata": {},
   "outputs": [
    {
     "data": {
      "text/plain": [
       "0.8298972707397917"
      ]
     },
     "execution_count": 70,
     "metadata": {},
     "output_type": "execute_result"
    }
   ],
   "source": [
    "# Checking accuracy score using Logistic Regression\n",
    "ac = accuracy_score(ytest, ypred)\n",
    "ac"
   ]
  },
  {
   "cell_type": "code",
   "execution_count": 71,
   "id": "6da01476-1d8e-4115-a804-bf21ab2c0137",
   "metadata": {},
   "outputs": [
    {
     "data": {
      "text/plain": [
       "array([[30736,  1893],\n",
       "       [ 5343,  4567]], dtype=int64)"
      ]
     },
     "execution_count": 71,
     "metadata": {},
     "output_type": "execute_result"
    }
   ],
   "source": [
    "# Checking confusion matrics using Logistic Regression\n",
    "cm = confusion_matrix(ytest, ypred)\n",
    "cm"
   ]
  },
  {
   "cell_type": "code",
   "execution_count": 72,
   "id": "5613dde9-6a63-45a9-b6e6-1c10b20c6fad",
   "metadata": {},
   "outputs": [
    {
     "name": "stdout",
     "output_type": "stream",
     "text": [
      "              precision    recall  f1-score   support\n",
      "\n",
      "           0       0.85      0.94      0.89     32629\n",
      "           1       0.71      0.46      0.56      9910\n",
      "\n",
      "    accuracy                           0.83     42539\n",
      "   macro avg       0.78      0.70      0.73     42539\n",
      "weighted avg       0.82      0.83      0.82     42539\n",
      "\n"
     ]
    }
   ],
   "source": [
    "# Checking Classification report using Logistic Regression\n",
    "cr = classification_report(ytest, ypred)\n",
    "print(cr)"
   ]
  },
  {
   "cell_type": "code",
   "execution_count": 73,
   "id": "791e8050-1793-4800-b656-0101f6f42b5e",
   "metadata": {},
   "outputs": [
    {
     "name": "stdout",
     "output_type": "stream",
     "text": [
      "0.8267196389110912\n",
      "0.8298972707397917\n"
     ]
    }
   ],
   "source": [
    "# check trainig and testing score\n",
    "training_score = lr.score(X_train_scaled,ytrain)\n",
    "test_testing_score = lr.score(X_test_scaled,ytest)\n",
    "\n",
    "print(training_score)                                   #low bais & Low Variance / No need of Regularisation as model is good fit\n",
    "print(test_testing_score)"
   ]
  },
  {
   "cell_type": "code",
   "execution_count": 74,
   "id": "e84de1b3-e01c-45d0-81b0-216f3defa3fe",
   "metadata": {},
   "outputs": [],
   "source": [
    "from sklearn.linear_model import LogisticRegression\n",
    "lr = LogisticRegression(solver=\"liblinear\")            # Getting same accuracy using liblinear solver\n",
    "lr.fit(X_train_scaled,ytrain)\n",
    "ypred = lr.predict(X_test_scaled)"
   ]
  },
  {
   "cell_type": "code",
   "execution_count": 75,
   "id": "56496201-219d-4fdf-bd72-49304570f747",
   "metadata": {},
   "outputs": [
    {
     "name": "stdout",
     "output_type": "stream",
     "text": [
      "              precision    recall  f1-score   support\n",
      "\n",
      "           0       0.85      0.94      0.89     32629\n",
      "           1       0.71      0.46      0.56      9910\n",
      "\n",
      "    accuracy                           0.83     42539\n",
      "   macro avg       0.78      0.70      0.73     42539\n",
      "weighted avg       0.82      0.83      0.82     42539\n",
      "\n"
     ]
    }
   ],
   "source": [
    "# Checking Classification report using Logistic Regression\n",
    "cr = classification_report(ytest, ypred)\n",
    "print(cr)"
   ]
  },
  {
   "cell_type": "code",
   "execution_count": 76,
   "id": "7afa7860-e181-4d43-a127-b9a439945ff4",
   "metadata": {},
   "outputs": [
    {
     "name": "stdout",
     "output_type": "stream",
     "text": [
      "0.8267196389110912\n",
      "0.8298972707397917\n"
     ]
    }
   ],
   "source": [
    "# check trainig and testing score\n",
    "training_score = lr.score(X_train_scaled,ytrain)\n",
    "test_testing_score = lr.score(X_test_scaled,ytest)\n",
    "\n",
    "print(training_score)                                   #low bais & Low Variance / No need of Regularisation as model is good fit\n",
    "print(test_testing_score)"
   ]
  },
  {
   "cell_type": "code",
   "execution_count": 77,
   "id": "5f6a915f-e8ec-4e0a-a084-eed104044f4b",
   "metadata": {},
   "outputs": [],
   "source": [
    "from sklearn.linear_model import LogisticRegression\n",
    "lr = LogisticRegression(solver=\"saga\")            # Getting same accuracy using saga solver\n",
    "lr.fit(X_train_scaled,ytrain)\n",
    "ypred = lr.predict(X_test_scaled)"
   ]
  },
  {
   "cell_type": "code",
   "execution_count": 78,
   "id": "35d0d61d-888c-41e6-b702-205f75cd0f54",
   "metadata": {},
   "outputs": [
    {
     "name": "stdout",
     "output_type": "stream",
     "text": [
      "              precision    recall  f1-score   support\n",
      "\n",
      "           0       0.85      0.94      0.89     32629\n",
      "           1       0.71      0.46      0.56      9910\n",
      "\n",
      "    accuracy                           0.83     42539\n",
      "   macro avg       0.78      0.70      0.73     42539\n",
      "weighted avg       0.82      0.83      0.82     42539\n",
      "\n"
     ]
    }
   ],
   "source": [
    "# Checking Classification report using Logistic Regression\n",
    "cr = classification_report(ytest, ypred)\n",
    "print(cr)"
   ]
  },
  {
   "cell_type": "markdown",
   "id": "34cd02a6-ea06-40bc-bf78-69941445f635",
   "metadata": {},
   "source": [
    "Prediction"
   ]
  },
  {
   "cell_type": "code",
   "execution_count": 79,
   "id": "d8ca6bb7-3024-40be-b105-3af9930bb0bc",
   "metadata": {},
   "outputs": [],
   "source": [
    "def mymodel(model):\n",
    "    model.fit(X_train_scaled,ytrain)\n",
    "    return model"
   ]
  },
  {
   "cell_type": "code",
   "execution_count": 81,
   "id": "46d74d96-acd8-4306-b292-9f69d35016c0",
   "metadata": {},
   "outputs": [],
   "source": [
    "# creating function to predict Diagnosis column\n",
    "\n",
    "def makeprediction():\n",
    "    logreg=LogisticRegression()\n",
    "    model=mymodel(logreg)\n",
    "    return model"
   ]
  },
  {
   "cell_type": "code",
   "execution_count": 82,
   "id": "8cced010-f57e-4f18-92cf-1191024b836b",
   "metadata": {},
   "outputs": [],
   "source": [
    "trained_model=makeprediction()"
   ]
  },
  {
   "cell_type": "markdown",
   "id": "46ac59fb-1117-4d59-a4ac-81ad7506d66b",
   "metadata": {},
   "source": [
    "Why save model as a pickle file?"
   ]
  },
  {
   "cell_type": "raw",
   "id": "7f60fd67-b2c9-4ac1-801f-17de68f8fed1",
   "metadata": {},
   "source": [
    "Pickle allows me to save the trained model so it can be loaded later without retraining. This makes the model reusable for predictions, deployment, or sharing."
   ]
  },
  {
   "cell_type": "code",
   "execution_count": 83,
   "id": "19b3d505-939d-4189-94c3-b7a4d2b4e466",
   "metadata": {},
   "outputs": [],
   "source": [
    "import pickle"
   ]
  },
  {
   "cell_type": "code",
   "execution_count": 84,
   "id": "47d60abc-ff7a-4355-9d67-6d9d7245fddb",
   "metadata": {},
   "outputs": [],
   "source": [
    "with open(\"logmodel.pkl\",\"wb\") as file:\n",
    "    pickle.dump(trained_model,file)"
   ]
  },
  {
   "cell_type": "code",
   "execution_count": null,
   "id": "7b853d3a-e101-4c47-ac10-6b355319e07c",
   "metadata": {},
   "outputs": [],
   "source": []
  }
 ],
 "metadata": {
  "kernelspec": {
   "display_name": "Python 3 (ipykernel)",
   "language": "python",
   "name": "python3"
  },
  "language_info": {
   "codemirror_mode": {
    "name": "ipython",
    "version": 3
   },
   "file_extension": ".py",
   "mimetype": "text/x-python",
   "name": "python",
   "nbconvert_exporter": "python",
   "pygments_lexer": "ipython3",
   "version": "3.12.7"
  }
 },
 "nbformat": 4,
 "nbformat_minor": 5
}
